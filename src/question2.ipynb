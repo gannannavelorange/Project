{
  "nbformat": 4,
  "nbformat_minor": 0,
  "metadata": {
    "colab": {
      "name": "question2.ipynb",
      "provenance": [],
      "authorship_tag": "ABX9TyNM5lT11KGmVQ/Wdh3Zncod",
      "include_colab_link": true
    },
    "kernelspec": {
      "name": "python3",
      "display_name": "Python 3"
    }
  },
  "cells": [
    {
      "cell_type": "markdown",
      "metadata": {
        "id": "view-in-github",
        "colab_type": "text"
      },
      "source": [
        "<a href=\"https://colab.research.google.com/github/gannannavelorange/Project/blob/master/src/question2.ipynb\" target=\"_parent\"><img src=\"https://colab.research.google.com/assets/colab-badge.svg\" alt=\"Open In Colab\"/></a>"
      ]
    },
    {
      "cell_type": "code",
      "metadata": {
        "id": "odwpB5-xhVft",
        "colab_type": "code",
        "colab": {
          "base_uri": "https://localhost:8080/",
          "height": 121
        },
        "outputId": "cbad2a98-884c-42f5-8768-7b7d749c62d6"
      },
      "source": [
        "!git clone https://github.com/gannannavelorange/Project"
      ],
      "execution_count": null,
      "outputs": [
        {
          "output_type": "stream",
          "text": [
            "Cloning into 'Project'...\n",
            "remote: Enumerating objects: 28, done.\u001b[K\n",
            "remote: Counting objects: 100% (28/28), done.\u001b[K\n",
            "remote: Compressing objects: 100% (19/19), done.\u001b[K\n",
            "remote: Total 28 (delta 6), reused 0 (delta 0), pack-reused 0\u001b[K\n",
            "Unpacking objects: 100% (28/28), done.\n"
          ],
          "name": "stdout"
        }
      ]
    },
    {
      "cell_type": "code",
      "metadata": {
        "id": "h190R307hZhJ",
        "colab_type": "code",
        "colab": {
          "base_uri": "https://localhost:8080/",
          "height": 35
        },
        "outputId": "96d72ac5-3d6f-4f89-9387-74c21f15869d"
      },
      "source": [
        "cd Project/src"
      ],
      "execution_count": null,
      "outputs": [
        {
          "output_type": "stream",
          "text": [
            "/content/Project/src\n"
          ],
          "name": "stdout"
        }
      ]
    },
    {
      "cell_type": "code",
      "metadata": {
        "id": "fYEjLarIhZk0",
        "colab_type": "code",
        "colab": {}
      },
      "source": [
        "import matplotlib.pyplot as plt\n",
        "import numpy as np\n",
        "import scipy.optimize as so\n",
        "import pandas as pd\n",
        "import math\n",
        "from scipy.stats import norm\n",
        "import csv\n"
      ],
      "execution_count": null,
      "outputs": []
    },
    {
      "cell_type": "code",
      "metadata": {
        "id": "-gz7D5P6hZn3",
        "colab_type": "code",
        "colab": {}
      },
      "source": [
        "def gbs(option_type, fs, x, t, r, b, v):\n",
        "    t__sqrt = math.sqrt(t)\n",
        "    d1 = (math.log(fs / x) + (b + (v * v) / 2) * t) / (v * t__sqrt)\n",
        "    d2 = d1 - v * t__sqrt\n",
        "\n",
        "    #if option_type == \"c\":\n",
        "    if option_type == 1:\n",
        "        \n",
        "        value = fs * math.exp((b - r) * t) * norm.cdf(d1) - x * math.exp(-r * t) * norm.cdf(d2)\n",
        "        delta = math.exp((b - r) * t) * norm.cdf(d1)\n",
        "        gamma = math.exp((b - r) * t) * norm.pdf(d1) / (fs * v * t__sqrt)\n",
        "        theta = -(fs * v * math.exp((b - r) * t) * norm.pdf(d1)) / (2 * t__sqrt) - (b - r) * fs * math.exp(\n",
        "            (b - r) * t) * norm.cdf(d1) - r * x * math.exp(-r * t) * norm.cdf(d2)\n",
        "        vega = math.exp((b - r) * t) * fs * t__sqrt * norm.pdf(d1)\n",
        "        rho = x * t * math.exp(-r * t) * norm.cdf(d2)\n",
        "    else:\n",
        "      \n",
        "        value = x * math.exp(-r * t) * norm.cdf(-d2) - (fs * math.exp((b - r) * t) * norm.cdf(-d1))\n",
        "        delta = -math.exp((b - r) * t) * norm.cdf(-d1)\n",
        "        gamma = math.exp((b - r) * t) * norm.pdf(d1) / (fs * v * t__sqrt)\n",
        "        theta = -(fs * v * math.exp((b - r) * t) * norm.pdf(d1)) / (2 * t__sqrt) + (b - r) * fs * math.exp(\n",
        "            (b - r) * t) * norm.cdf(-d1) + r * x * math.exp(-r * t) * norm.cdf(-d2)\n",
        "        vega = math.exp((b - r) * t) * fs * t__sqrt * norm.pdf(d1)\n",
        "        rho = -x * t * math.exp(-r * t) * norm.cdf(-d2)\n",
        "\n",
        "    \n",
        "                                                        \n",
        "    \n",
        "    return value, delta, gamma, theta, vega, rho"
      ],
      "execution_count": null,
      "outputs": []
    },
    {
      "cell_type": "code",
      "metadata": {
        "id": "Om0VErhKhZqJ",
        "colab_type": "code",
        "colab": {
          "base_uri": "https://localhost:8080/",
          "height": 149
        },
        "outputId": "ef33944b-de57-461b-e77b-2df6c7867c6b"
      },
      "source": [
        "'''\n",
        "#a=gbs(\"c\", 2900, 2900,0.39285, 0.025, 0, 0.136015)\n",
        "a=gbs(1, 2900, 2900,0.39285, 0.025, 0, 0.136015)\n",
        "print(a)"
      ],
      "execution_count": null,
      "outputs": [
        {
          "output_type": "error",
          "ename": "SyntaxError",
          "evalue": "ignored",
          "traceback": [
            "\u001b[0;36m  File \u001b[0;32m\"<ipython-input-5-cd9b73ee4be2>\"\u001b[0;36m, line \u001b[0;32m4\u001b[0m\n\u001b[0;31m    print(a)\u001b[0m\n\u001b[0m            \n^\u001b[0m\n\u001b[0;31mSyntaxError\u001b[0m\u001b[0;31m:\u001b[0m EOF while scanning triple-quoted string literal\n"
          ]
        }
      ]
    },
    {
      "cell_type": "code",
      "metadata": {
        "id": "xgxdFMhnqypZ",
        "colab_type": "code",
        "colab": {
          "base_uri": "https://localhost:8080/",
          "height": 35
        },
        "outputId": "ff7c56de-ace2-413e-c143-dd84e004d3d4"
      },
      "source": [
        "0.26984\n",
        "aa=gbs(0, 444.45,150,0.26984,0.0025, 0.0025, 0.8027)[0]\n",
        "\n",
        "print(aa)"
      ],
      "execution_count": null,
      "outputs": [
        {
          "output_type": "stream",
          "text": [
            "0.1514830968765397\n"
          ],
          "name": "stdout"
        }
      ]
    },
    {
      "cell_type": "code",
      "metadata": {
        "id": "szbWp_mqlmkd",
        "colab_type": "code",
        "colab": {}
      },
      "source": [
        "#ATM volatility\n",
        "def init_vol(t,C,F):\n",
        "  v=2/math.sqrt(t)*norm.ppf(1/2*(C/F+1))\n",
        "  return v"
      ],
      "execution_count": null,
      "outputs": []
    },
    {
      "cell_type": "code",
      "metadata": {
        "id": "cScz8U3t78Ro",
        "colab_type": "code",
        "colab": {}
      },
      "source": [
        "def _approx_implied_vol(option_type, fs, x, t, r, b, cp):\n",
        "    \n",
        "\n",
        "    ebrt = math.exp((b - r) * t)\n",
        "    ert = math.exp(-r * t)\n",
        "\n",
        "    a = math.sqrt(2 * math.pi) / (fs * ebrt + x * ert)\n",
        "\n",
        "    if option_type == 1:\n",
        "        payoff = fs * ebrt - x * ert\n",
        "    else:\n",
        "        payoff = x * ert - fs * ebrt\n",
        "\n",
        "    b = cp - payoff / 2\n",
        "    c = (payoff ** 2) / math.pi\n",
        "\n",
        "    v = (a * (b + math.sqrt(b ** 2 + c))) / math.sqrt(t)\n",
        "\n",
        "    return v"
      ],
      "execution_count": null,
      "outputs": []
    },
    {
      "cell_type": "code",
      "metadata": {
        "id": "RyBR3Hsp8A22",
        "colab_type": "code",
        "colab": {
          "base_uri": "https://localhost:8080/",
          "height": 35
        },
        "outputId": "e06e2dec-11f5-4b2c-e3e3-8639bd01d38c"
      },
      "source": [
        "ATM= _approx_implied_vol(1, 2900, 2900, 0.39285, 0.025, 0, 98.6)\n",
        "print(ATM)"
      ],
      "execution_count": null,
      "outputs": [
        {
          "output_type": "stream",
          "text": [
            "0.13731588717811868\n"
          ],
          "name": "stdout"
        }
      ]
    },
    {
      "cell_type": "code",
      "metadata": {
        "id": "JZ3LZXnMmXBM",
        "colab_type": "code",
        "colab": {
          "base_uri": "https://localhost:8080/",
          "height": 35
        },
        "outputId": "d74e4c15-209b-4294-bba3-e518fff3db9b"
      },
      "source": [
        "# Call price=98.6 Future price=2900\n",
        "ATMvol=init_vol(0.39285,98.6,2900)\n",
        "print(ATMvol)"
      ],
      "execution_count": null,
      "outputs": [
        {
          "output_type": "stream",
          "text": [
            "0.1360150517495224\n"
          ],
          "name": "stdout"
        }
      ]
    },
    {
      "cell_type": "code",
      "metadata": {
        "id": "cRTRy4Ztm7gS",
        "colab_type": "code",
        "colab": {}
      },
      "source": [
        "def getdata():\n",
        "  with open('Data.csv') as file:\n",
        "      reader=csv.reader(file)\n",
        "      rows=[row for row in reader]\n",
        "      col0=[row[0] for row in rows[1:42]]\n",
        "      col0=[float(c) for c in col0] # Strike\n",
        "      col1=[row[1] for row in rows[1:42]]\n",
        "      col1=[float(c) for c in col1] # Call price\n",
        "      col2=[row[1] for row in rows[1:42]]\n",
        "      col2=[float(c) for c in col2] # Put price\n",
        "      \n",
        "  return col0,col1,col2"
      ],
      "execution_count": null,
      "outputs": []
    },
    {
      "cell_type": "code",
      "metadata": {
        "id": "vC1AVJxq2qfM",
        "colab_type": "code",
        "colab": {}
      },
      "source": [
        "d=getdata()[1]\n",
        "print(d)"
      ],
      "execution_count": null,
      "outputs": []
    },
    {
      "cell_type": "code",
      "metadata": {
        "id": "AJ1z2CJioX0f",
        "colab_type": "code",
        "colab": {}
      },
      "source": [
        "#define an error function\n",
        "def error_function(v,option_type, fs, x, t, r, b,theo_price):\n",
        "  #gbm.vol_ratio = vol\n",
        "  gbs_price=gbs(option_type, fs, x, t, r, b, v)\n",
        "  return np.abs(theo_price - gbs_price[0])   #x is the x[i]"
      ],
      "execution_count": null,
      "outputs": []
    },
    {
      "cell_type": "code",
      "metadata": {
        "id": "6Bgkj6c6pn23",
        "colab_type": "code",
        "colab": {}
      },
      "source": [
        "def implied_volatility(option_type, fs, x, t, r, b,theo_price):\n",
        "  initial =ATMvol#initial guess\n",
        "  return so.fmin(error_function, initial, args = (option_type, fs, x, t, r, b,theo_price), disp = 0)[0]"
      ],
      "execution_count": null,
      "outputs": []
    },
    {
      "cell_type": "code",
      "metadata": {
        "id": "3utl5JrmP80J",
        "colab_type": "code",
        "colab": {}
      },
      "source": [
        ""
      ],
      "execution_count": null,
      "outputs": []
    },
    {
      "cell_type": "code",
      "metadata": {
        "id": "2exB3GQipqkk",
        "colab_type": "code",
        "colab": {
          "base_uri": "https://localhost:8080/",
          "height": 295
        },
        "outputId": "fad1e0af-0fca-4d5b-e169-f9742f27746e"
      },
      "source": [
        "strike=getdata()[0]\n",
        "callprice=getdata()[1]\n",
        "putprice=getdata()[2]\n",
        "iv=[]\n",
        "ivp=[]\n",
        "for i in range(0,41):\n",
        "  iv.append(implied_volatility(1,2900,strike[i],0.39285, 0.025, 0,callprice[i]))\n",
        "\n",
        "  #iv.append(implied_volatility(1,2900,strike[i],0.25, 0.025, 0, callprice[i]))\n",
        "  ivp.append(implied_volatility(3,2900,strike[i],0.39285, 0.025, 0, putprice[i]))\n",
        "#print(iv)\n",
        "\n",
        "\n",
        "plt.plot(strike,iv,'orange')\n",
        "plt.xlabel('Strike')\n",
        "plt.ylabel('IV')\n",
        "plt.title('Implied volatility curve for call option')\n",
        "#plt.legend()\n",
        "plt.show()"
      ],
      "execution_count": null,
      "outputs": [
        {
          "output_type": "display_data",
          "data": {
            "image/png": "[encoded data removed]",
            "text/plain": [
              "<Figure size 432x288 with 1 Axes>"
            ]
          },
          "metadata": {
            "tags": [],
            "needs_background": "light"
          }
        }
      ]
    },
    {
      "cell_type": "code",
      "metadata": {
        "id": "XKiVqFvptKxm",
        "colab_type": "code",
        "colab": {}
      },
      "source": [
        "plt.plot(strike,ivp,'blue')\n",
        "plt.xlabel('Strike')\n",
        "plt.ylabel('IV')\n",
        "plt.title('Implied volatility curve for put option')\n",
        "#plt.legend()\n",
        "plt.show()"
      ],
      "execution_count": null,
      "outputs": []
    },
    {
      "cell_type": "code",
      "metadata": {
        "id": "pyKWq-yVpWCE",
        "colab_type": "code",
        "colab": {
          "base_uri": "https://localhost:8080/",
          "height": 55
        },
        "outputId": "f06e7f18-8fa7-40d3-d6a0-d14ea211396c"
      },
      "source": [
        "\n",
        "ir= 0.025\n",
        "T=0.39285\n",
        "F=2900 \n",
        "\n",
        "arbitrage=[]\n",
        "for i in range(0,41):\n",
        "  #arbitrage.append(strike[i]*np.exp(-ir*T)-F*np.exp(-ir*T)-putprice[i]+callprice[i])\n",
        "  arbitrage.append(strike[i]*np.exp(-ir*T)-100*F-putprice[i]+callprice[i])\n",
        "print(arbitrage)\n",
        "  "
      ],
      "execution_count": null,
      "outputs": [
        {
          "output_type": "stream",
          "text": [
            "[-396.090728389885, -376.286191970391, -356.4816555508969, -336.6771191314024, -316.87258271190825, -297.0680462924138, -277.2635098729197, -257.45897345342564, -237.65443703393112, -217.84990061443705, -198.04536419494252, -178.24082777544845, -158.43629135595438, -138.63175493645988, -118.82721851696579, -99.02268209747126, -79.21814567797719, -59.41360925848312, -39.609072838988595, -19.804536419494525, 0.0, 19.80453641949407, 39.60907283898814, 59.413609258482666, 79.21814567797674, 99.02268209747126, 118.82721851696533, 138.6317549364594, 158.43629135595393, 178.240827775448, 198.04536419494252, 217.8499006144366, 237.65443703393066, 257.4589734534252, 277.26350987291926, 297.0680462924138, 316.87258271190785, 336.6771191314019, 356.48165555089645, 376.2861919703905, 396.09072838988504]\n"
          ],
          "name": "stdout"
        }
      ]
    },
    {
      "cell_type": "code",
      "metadata": {
        "id": "39cc9Boj7Pk9",
        "colab_type": "code",
        "colab": {
          "base_uri": "https://localhost:8080/",
          "height": 35
        },
        "outputId": "b746b6b4-33db-4ed1-db34-4060207bccf5"
      },
      "source": [
        "T=0.26984\n",
        "IR=0.0025\n",
        "\n",
        "ar=540*np.exp(-0.0025*0.26984)-444.45-99.95+9.6\n",
        "print(ar)"
      ],
      "execution_count": null,
      "outputs": [
        {
          "output_type": "stream",
          "text": [
            "4.835838845367752\n"
          ],
          "name": "stdout"
        }
      ]
    },
    {
      "cell_type": "code",
      "metadata": {
        "id": "RJut-PRQEdFd",
        "colab_type": "code",
        "colab": {}
      },
      "source": [
        "def getdata1():\n",
        "  with open('AAPL.csv') as file:\n",
        "      reader=csv.reader(file)\n",
        "      rows=[row for row in reader]\n",
        "      col0=[row[0] for row in rows[1:59]]\n",
        "      col0=[float(c) for c in col0] # Strike\n",
        "      col1=[row[1] for row in rows[1:59]]\n",
        "      col1=[float(c) for c in col1] # Call price\n",
        "      \n",
        "      \n",
        "  return col0,col1"
      ],
      "execution_count": null,
      "outputs": []
    },
    {
      "cell_type": "code",
      "metadata": {
        "id": "TDKq5YF5F8WB",
        "colab_type": "code",
        "colab": {}
      },
      "source": [
        "strike1=getdata1()[0]\n",
        "callprice1=getdata1()[1]\n",
        "for i in range(0,58):\n",
        "  print(strike1[i])"
      ],
      "execution_count": null,
      "outputs": []
    },
    {
      "cell_type": "code",
      "metadata": {
        "id": "iHRmneo6Ev3d",
        "colab_type": "code",
        "colab": {}
      },
      "source": [
        "strike1=getdata1()[0]\n",
        "callprice1=getdata1()[1]\n",
        "iv1=[]\n",
        "for i in range(0,58):\n",
        "  iv1.append(implied_volatility(1,444.45,strike1[i],0.26984, 0.0025, 0.0025,callprice1[i]))\n",
        "  #iv.append(implied_volatility(1,2900,strike[i],0.39285, 0.025, 0.025,callprice[i]))\n",
        "  #ivp.append(implied_volatility(0,2900,strike[i],0.39285, 0.025, 0,putprice[i]))\n",
        "print(iv1)\n",
        "\n",
        "\n",
        "plt.plot(strike1,iv1,'orange')\n",
        "plt.xlabel('strike')\n",
        "plt.ylabel('iv')\n",
        "plt.title('iv curve')\n",
        "plt.legend()\n",
        "plt.show()"
      ],
      "execution_count": null,
      "outputs": []
    },
    {
      "cell_type": "code",
      "metadata": {
        "id": "n3T36OpzuxkB",
        "colab_type": "code",
        "colab": {}
      },
      "source": [
        "i = implied_volatility(1, 2900, 2900,0.39285, 0.025, 0,98.6)\n",
        "print(i)"
      ],
      "execution_count": null,
      "outputs": []
    }
  ]
}