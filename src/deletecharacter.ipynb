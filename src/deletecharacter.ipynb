{
  "nbformat": 4,
  "nbformat_minor": 0,
  "metadata": {
    "colab": {
      "name": "deletecharacter.ipynb",
      "provenance": [],
      "authorship_tag": "ABX9TyPH69oywXHNJ/nUvQWj5CYy",
      "include_colab_link": true
    },
    "kernelspec": {
      "name": "python3",
      "display_name": "Python 3"
    }
  },
  "cells": [
    {
      "cell_type": "markdown",
      "metadata": {
        "id": "view-in-github",
        "colab_type": "text"
      },
      "source": [
        "<a href=\"https://colab.research.google.com/github/gannannavelorange/Project/blob/master/src/deletecharacter.ipynb\" target=\"_parent\"><img src=\"https://colab.research.google.com/assets/colab-badge.svg\" alt=\"Open In Colab\"/></a>"
      ]
    },
    {
      "cell_type": "code",
      "metadata": {
        "id": "uV4zWCFGWG1A",
        "colab_type": "code",
        "colab": {}
      },
      "source": [
        "# ABABABA if ABAAB delete 1 if AAABA delete 2\n",
        "def alternatingCharacters(s):\n",
        "    count = 0\n",
        "    for num in range (len(s)-1):\n",
        "        if s[num] == s[num+1]:\n",
        "            count +=1\n",
        "    return count"
      ],
      "execution_count": 2,
      "outputs": []
    },
    {
      "cell_type": "code",
      "metadata": {
        "id": "ikikK8HfYoVf",
        "colab_type": "code",
        "colab": {}
      },
      "source": [
        ""
      ],
      "execution_count": null,
      "outputs": []
    }
  ]
}