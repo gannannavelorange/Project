{
  "nbformat": 4,
  "nbformat_minor": 0,
  "metadata": {
    "colab": {
      "name": "question2.ipynb",
      "provenance": [],
      "authorship_tag": "ABX9TyNWBYiWSqkJnwUublyi7VoT",
      "include_colab_link": true
    },
    "kernelspec": {
      "name": "python3",
      "display_name": "Python 3"
    }
  },
  "cells": [
    {
      "cell_type": "markdown",
      "metadata": {
        "id": "view-in-github",
        "colab_type": "text"
      },
      "source": [
        "<a href=\"https://colab.research.google.com/github/gannannavelorange/Project/blob/master/src/question2.ipynb\" target=\"_parent\"><img src=\"https://colab.research.google.com/assets/colab-badge.svg\" alt=\"Open In Colab\"/></a>"
      ]
    },
    {
      "cell_type": "code",
      "metadata": {
        "id": "odwpB5-xhVft",
        "colab_type": "code",
        "colab": {
          "base_uri": "https://localhost:8080/",
          "height": 121
        },
        "outputId": "12be39fc-4fb6-4fd0-be29-997b4b0c994d"
      },
      "source": [
        "!git clone https://github.com/gannannavelorange/Project"
      ],
      "execution_count": 58,
      "outputs": [
        {
          "output_type": "stream",
          "text": [
            "Cloning into 'Project'...\n",
            "remote: Enumerating objects: 8, done.\u001b[K\n",
            "remote: Counting objects: 100% (8/8), done.\u001b[K\n",
            "remote: Compressing objects: 100% (4/4), done.\u001b[K\n",
            "remote: Total 8 (delta 0), reused 0 (delta 0), pack-reused 0\u001b[K\n",
            "Unpacking objects: 100% (8/8), done.\n"
          ],
          "name": "stdout"
        }
      ]
    },
    {
      "cell_type": "code",
      "metadata": {
        "id": "h190R307hZhJ",
        "colab_type": "code",
        "colab": {
          "base_uri": "https://localhost:8080/",
          "height": 35
        },
        "outputId": "c3d33272-ddbb-4bc3-b45e-38c5bb56887e"
      },
      "source": [
        "cd Project/src"
      ],
      "execution_count": 59,
      "outputs": [
        {
          "output_type": "stream",
          "text": [
            "/content/Project/src\n"
          ],
          "name": "stdout"
        }
      ]
    },
    {
      "cell_type": "code",
      "metadata": {
        "id": "fYEjLarIhZk0",
        "colab_type": "code",
        "colab": {}
      },
      "source": [
        "import matplotlib.pyplot as plt\n",
        "import numpy as np\n",
        "import scipy.optimize as so\n",
        "import pandas as pd\n",
        "import math\n",
        "from scipy.stats import norm\n",
        "import csv\n"
      ],
      "execution_count": 62,
      "outputs": []
    },
    {
      "cell_type": "code",
      "metadata": {
        "id": "-gz7D5P6hZn3",
        "colab_type": "code",
        "colab": {}
      },
      "source": [
        "def gbs(option_type, fs, x, t, r, b, v):\n",
        "    t__sqrt = math.sqrt(t)\n",
        "    d1 = (math.log(fs / x) + (b + (v * v) / 2) * t) / (v * t__sqrt)\n",
        "    d2 = d1 - v * t__sqrt\n",
        "\n",
        "    #if option_type == \"c\":\n",
        "    if option_type == 1:\n",
        "        # it's a call\n",
        "        #_debug(\"     Call Option\")\n",
        "        value = fs * math.exp((b - r) * t) * norm.cdf(d1) - x * math.exp(-r * t) * norm.cdf(d2)\n",
        "        delta = math.exp((b - r) * t) * norm.cdf(d1)\n",
        "        gamma = math.exp((b - r) * t) * norm.pdf(d1) / (fs * v * t__sqrt)\n",
        "        theta = -(fs * v * math.exp((b - r) * t) * norm.pdf(d1)) / (2 * t__sqrt) - (b - r) * fs * math.exp(\n",
        "            (b - r) * t) * norm.cdf(d1) - r * x * math.exp(-r * t) * norm.cdf(d2)\n",
        "        vega = math.exp((b - r) * t) * fs * t__sqrt * norm.pdf(d1)\n",
        "        rho = x * t * math.exp(-r * t) * norm.cdf(d2)\n",
        "    else:\n",
        "        # it's a put\n",
        "        #_debug(\"     Put Option\")\n",
        "        value = x * math.exp(-r * t) * norm.cdf(-d2) - (fs * math.exp((b - r) * t) * norm.cdf(-d1))\n",
        "        delta = -math.exp((b - r) * t) * norm.cdf(-d1)\n",
        "        gamma = math.exp((b - r) * t) * norm.pdf(d1) / (fs * v * t__sqrt)\n",
        "        theta = -(fs * v * math.exp((b - r) * t) * norm.pdf(d1)) / (2 * t__sqrt) + (b - r) * fs * math.exp(\n",
        "            (b - r) * t) * norm.cdf(-d1) + r * x * math.exp(-r * t) * norm.cdf(-d2)\n",
        "        vega = math.exp((b - r) * t) * fs * t__sqrt * norm.pdf(d1)\n",
        "        rho = -x * t * math.exp(-r * t) * norm.cdf(-d2)\n",
        "\n",
        "    #_debug(\"     d1= {0}\\n     d2 = {1}\".format(d1, d2))\n",
        "    #_debug(\"     delta = {0}\\n     gamma = {1}\\n     theta = {2}\\n     vega = {3}\\n     rho={4}\".format(delta, gamma,theta, vega,theta, vega,\n",
        "                                                        \n",
        "    \n",
        "    return value, delta, gamma, theta, vega, rho"
      ],
      "execution_count": 42,
      "outputs": []
    },
    {
      "cell_type": "code",
      "metadata": {
        "id": "Om0VErhKhZqJ",
        "colab_type": "code",
        "colab": {
          "base_uri": "https://localhost:8080/",
          "height": 35
        },
        "outputId": "0b46faec-6096-4829-f70a-16a8b80dce4e"
      },
      "source": [
        "#a=gbs(\"c\", 2900, 2900,0.39285, 0.025, 0, 0.136015)\n",
        "a=gbs(1, 2900, 2900,0.39285, 0.025, 0, 0.136015)\n",
        "print(a)"
      ],
      "execution_count": 43,
      "outputs": [
        {
          "output_type": "stream",
          "text": [
            "(97.63632742298137, 0.5119472600430428, 0.0015964378845164623, -121.75052449780648, 717.4003503976213, 544.8871639848188)\n"
          ],
          "name": "stdout"
        }
      ]
    },
    {
      "cell_type": "code",
      "metadata": {
        "id": "xgxdFMhnqypZ",
        "colab_type": "code",
        "colab": {
          "base_uri": "https://localhost:8080/",
          "height": 35
        },
        "outputId": "acba5236-166f-40a5-f6b8-dcb3b0aa9235"
      },
      "source": [
        "aa=gbs(\"c\", 2900, 2900,0.39285, 0.025, 0, 0.136015)[0]\n",
        "print(aa)"
      ],
      "execution_count": 21,
      "outputs": [
        {
          "output_type": "stream",
          "text": [
            "97.63632742298137\n"
          ],
          "name": "stdout"
        }
      ]
    },
    {
      "cell_type": "code",
      "metadata": {
        "id": "szbWp_mqlmkd",
        "colab_type": "code",
        "colab": {}
      },
      "source": [
        "#ATM volatility\n",
        "def init_vol(t,C,F):\n",
        "  v=2/math.sqrt(t)*norm.ppf(1/2*(C/F+1))\n",
        "  return v"
      ],
      "execution_count": 32,
      "outputs": []
    },
    {
      "cell_type": "code",
      "metadata": {
        "id": "JZ3LZXnMmXBM",
        "colab_type": "code",
        "colab": {
          "base_uri": "https://localhost:8080/",
          "height": 35
        },
        "outputId": "330c7005-cb7b-421b-a9f9-cc9d96d0e964"
      },
      "source": [
        "# Call price=98.6 Future price=2900\n",
        "ATMvol=init_vol(0.39285,98.6,2900)\n",
        "print(ATMvol)"
      ],
      "execution_count": 33,
      "outputs": [
        {
          "output_type": "stream",
          "text": [
            "0.1360150517495224\n"
          ],
          "name": "stdout"
        }
      ]
    },
    {
      "cell_type": "code",
      "metadata": {
        "id": "cRTRy4Ztm7gS",
        "colab_type": "code",
        "colab": {}
      },
      "source": [
        "def getdata():\n",
        "  with open('Data.csv') as file:\n",
        "      reader=csv.reader(file)\n",
        "      rows=[row for row in reader]\n",
        "      col0=[row[0] for row in rows[1:42]]\n",
        "      col0=[float(c) for c in col0] # Strike\n",
        "      col1=[row[1] for row in rows[1:42]]\n",
        "      col1=[float(c) for c in col1] # Call price\n",
        "      col2=[row[1] for row in rows[1:42]]\n",
        "      col2=[float(c) for c in col2] # Put price\n",
        "      \n",
        "  return col0,col1,col2"
      ],
      "execution_count": 63,
      "outputs": []
    },
    {
      "cell_type": "code",
      "metadata": {
        "id": "vC1AVJxq2qfM",
        "colab_type": "code",
        "colab": {
          "base_uri": "https://localhost:8080/",
          "height": 55
        },
        "outputId": "2c14c04d-5c7b-4185-9cb3-f8ce540fa464"
      },
      "source": [
        "d=getdata()[1]\n",
        "print(d)"
      ],
      "execution_count": 66,
      "outputs": [
        {
          "output_type": "stream",
          "text": [
            "[406.82, 389.14, 370.39, 354.36, 335.09, 319.47, 301.22, 282.38, 264.64, 248.01, 232.3, 219.94, 203.18, 185.46, 168.64, 156.89, 145.87, 137.2, 117.19, 106.6, 98.6, 83.45, 78.15, 64.53, 57.96, 50.9, 45.17, 42.2, 35.41, 29.19, 23.69, 21.39, 15.56, 12.28, 8.97, 7.34, 5.43, 4.01, 3.4, 2.14, 1.25]\n"
          ],
          "name": "stdout"
        }
      ]
    },
    {
      "cell_type": "code",
      "metadata": {
        "id": "AJ1z2CJioX0f",
        "colab_type": "code",
        "colab": {}
      },
      "source": [
        "#define an error function\n",
        "def error_function(v,option_type, fs, x, t, r, b,theo_price):\n",
        "  #gbm.vol_ratio = vol\n",
        "  gbs_price=gbs(option_type, fs, x, t, r, b, v)\n",
        "  return np.abs(theo_price - gbs_price[0])   #x is the x[i]"
      ],
      "execution_count": 54,
      "outputs": []
    },
    {
      "cell_type": "code",
      "metadata": {
        "id": "6Bgkj6c6pn23",
        "colab_type": "code",
        "colab": {}
      },
      "source": [
        "def implied_volatility(option_type, fs, x, t, r, b,theo_price):\n",
        "  intial =ATMvol#initial guess\n",
        "  return so.fmin(error_function, intial, args = (option_type, fs, x, t, r, b,theo_price), disp = 0)[0]"
      ],
      "execution_count": 55,
      "outputs": []
    },
    {
      "cell_type": "code",
      "metadata": {
        "id": "2exB3GQipqkk",
        "colab_type": "code",
        "colab": {}
      },
      "source": [
        "iv=[]\n",
        "for i in range(0,42):\n",
        "  a = implied_volatility(gbm1, option_list[i])\n",
        "  data3.append(a)\n",
        "print(data3)\n",
        "#data2=data2.append(data3)"
      ],
      "execution_count": null,
      "outputs": []
    },
    {
      "cell_type": "code",
      "metadata": {
        "id": "n3T36OpzuxkB",
        "colab_type": "code",
        "colab": {
          "base_uri": "https://localhost:8080/",
          "height": 35
        },
        "outputId": "48601d3a-3aa9-489d-e955-e315f2899a58"
      },
      "source": [
        "i = implied_volatility(1, 2900, 2900,0.39285, 0.025, 0,98.6)\n",
        "print(i)"
      ],
      "execution_count": 57,
      "outputs": [
        {
          "output_type": "stream",
          "text": [
            "0.13735992713913556\n"
          ],
          "name": "stdout"
        }
      ]
    }
  ]
}