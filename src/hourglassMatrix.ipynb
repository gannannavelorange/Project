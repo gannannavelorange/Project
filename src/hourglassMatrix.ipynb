{
  "nbformat": 4,
  "nbformat_minor": 0,
  "metadata": {
    "colab": {
      "name": "hourglassMatrix.ipynb",
      "provenance": [],
      "authorship_tag": "ABX9TyMX6O5PXDJoQP/wmxNY22/b",
      "include_colab_link": true
    },
    "kernelspec": {
      "name": "python3",
      "display_name": "Python 3"
    }
  },
  "cells": [
    {
      "cell_type": "markdown",
      "metadata": {
        "id": "view-in-github",
        "colab_type": "text"
      },
      "source": [
        "<a href=\"https://colab.research.google.com/github/gannannavelorange/Project/blob/master/src/hourglassMatrix.ipynb\" target=\"_parent\"><img src=\"https://colab.research.google.com/assets/colab-badge.svg\" alt=\"Open In Colab\"/></a>"
      ]
    },
    {
      "cell_type": "code",
      "metadata": {
        "id": "bF41x-FWOAud",
        "colab_type": "code",
        "colab": {}
      },
      "source": [
        "#!/bin/python3\n",
        "\n",
        "import math\n",
        "import os\n",
        "import random\n",
        "import re\n",
        "import sys\n",
        "\n",
        "# Complete the hourglassSum function below.\n",
        "def hourglassSum(arr):\n",
        "     sixteen=[]\n",
        "     num=[]\n",
        "     for r in range(0,4):\n",
        "         for c in range(0,4):\n",
        "             small=[]\n",
        "             for i in range(0+r,3+r):\n",
        "                 for j in range(0+c,3+c):\n",
        "                   small.append(arr[i][j])\n",
        "             small[3]=0\n",
        "             small[5]=0\n",
        "             num.append(sum(small))\n",
        "             sixteen.append(small)\n",
        "     maxi=max(num)\n",
        "     return maxi\n",
        "        \n",
        "\n",
        "\n",
        "\n",
        "if __name__ == '__main__':\n",
        "    fptr = open(os.environ['OUTPUT_PATH'], 'w')\n",
        "\n",
        "    arr = []\n",
        "\n",
        "    for _ in range(6):\n",
        "        arr.append(list(map(int, input().rstrip().split())))\n",
        "\n",
        "    result = hourglassSum(arr)\n",
        "\n",
        "    fptr.write(str(result) + '\\n')\n",
        "\n",
        "    fptr.close()\n"
      ],
      "execution_count": null,
      "outputs": []
    }
  ]
}