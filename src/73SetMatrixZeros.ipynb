{
  "nbformat": 4,
  "nbformat_minor": 0,
  "metadata": {
    "colab": {
      "name": "73SetMatrixZeros.ipynb",
      "provenance": [],
      "authorship_tag": "ABX9TyNsWoonac2BI/DzfxS85++U",
      "include_colab_link": true
    },
    "kernelspec": {
      "name": "python3",
      "display_name": "Python 3"
    }
  },
  "cells": [
    {
      "cell_type": "markdown",
      "metadata": {
        "id": "view-in-github",
        "colab_type": "text"
      },
      "source": [
        "<a href=\"https://colab.research.google.com/github/gannannavelorange/Project/blob/master/src/73SetMatrixZeros.ipynb\" target=\"_parent\"><img src=\"https://colab.research.google.com/assets/colab-badge.svg\" alt=\"Open In Colab\"/></a>"
      ]
    },
    {
      "cell_type": "code",
      "metadata": {
        "id": "7YYM4caGEa3j",
        "colab_type": "code",
        "colab": {}
      },
      "source": [
        "def setZeroes(matrix):\n",
        "        \"\"\"\n",
        "        :type matrix: List[List[int]]\n",
        "        :rtype: None Do not return anything, modify matrix in-place instead.\n",
        "        \"\"\"\n",
        "        R=len(matrix)\n",
        "        C=len(matrix[0])\n",
        "        rows, cols=set(),set()\n",
        "        for i in range(R):\n",
        "            for j in range(C):\n",
        "                if matrix[i][j]==0:\n",
        "                    rows.add(i)\n",
        "                    cols.add(j)\n",
        "        for i in range(R):\n",
        "            for j in range(C):\n",
        "                if i in rows or j in cols:\n",
        "                    matrix[i][j]=0\n",
        "        "
      ],
      "execution_count": null,
      "outputs": []
    },
    {
      "cell_type": "code",
      "metadata": {
        "id": "7NkS3ogwBZQq",
        "colab_type": "code",
        "colab": {
          "base_uri": "https://localhost:8080/",
          "height": 35
        },
        "outputId": "99aec8e0-ecc6-416c-bf71-948a7c723ae5"
      },
      "source": [
        "a=[1,2,3,5,2,7,3]\n",
        "b=[1,2,3]\n",
        "c=set(a).\n",
        "print(c)"
      ],
      "execution_count": 5,
      "outputs": [
        {
          "output_type": "stream",
          "text": [
            "{1, 2, 3, 5, 7}\n"
          ],
          "name": "stdout"
        }
      ]
    }
  ]
}