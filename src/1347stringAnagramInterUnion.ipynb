{
  "nbformat": 4,
  "nbformat_minor": 0,
  "metadata": {
    "colab": {
      "name": "1347stringAnagramInterUnion.ipynb",
      "provenance": [],
      "authorship_tag": "ABX9TyMYU6prAnrNGWuoYgsx1ZD4",
      "include_colab_link": true
    },
    "kernelspec": {
      "name": "python3",
      "display_name": "Python 3"
    }
  },
  "cells": [
    {
      "cell_type": "markdown",
      "metadata": {
        "id": "view-in-github",
        "colab_type": "text"
      },
      "source": [
        "<a href=\"https://colab.research.google.com/github/gannannavelorange/Project/blob/master/src/1347stringAnagramInterUnion.ipynb\" target=\"_parent\"><img src=\"https://colab.research.google.com/assets/colab-badge.svg\" alt=\"Open In Colab\"/></a>"
      ]
    },
    {
      "cell_type": "code",
      "metadata": {
        "id": "uSxrGhz5CFYT",
        "colab_type": "code",
        "colab": {}
      },
      "source": [
        "import math\n",
        "import os\n",
        "import random\n",
        "import re\n",
        "import sys"
      ],
      "execution_count": 18,
      "outputs": []
    },
    {
      "cell_type": "code",
      "metadata": {
        "id": "GOSFo4BI5C6c",
        "colab_type": "code",
        "colab": {}
      },
      "source": [
        "def minSteps(s, t):\n",
        "        \"\"\"\n",
        "        :type s: str\n",
        "        :type t: str\n",
        "        :rtype: int\n",
        "        \"\"\"\n",
        "        hashmap=defaultdict(int)\n",
        "        for i in s:\n",
        "            hashmap[i]+=1\n",
        "        count=0    \n",
        "        for i in t:\n",
        "            if i in hashmap and hashmap[i]>0:\n",
        "                hashmap[i]-=1\n",
        "            else:\n",
        "                count+=1\n",
        "        return count"
      ],
      "execution_count": 19,
      "outputs": []
    },
    {
      "cell_type": "code",
      "metadata": {
        "id": "9i8SAh7S5Huj",
        "colab_type": "code",
        "colab": {}
      },
      "source": [
        "print(minSteps('abc','dfa'))"
      ],
      "execution_count": null,
      "outputs": []
    },
    {
      "cell_type": "code",
      "metadata": {
        "id": "S6Q_1lfxCtS7",
        "colab_type": "code",
        "colab": {}
      },
      "source": [
        "    def minSteps1(s: str, t: str) -> int:\n",
        "\t\t\n",
        "\t\t\t#The approach is to track the number of char differences between the two strings.\n",
        "\t\t\t#If a char in t is missing from s, then we increment count as we would have to replace it with something else.\n",
        "\t\t\n",
        "        char_count = {}\n",
        "        for c in s:\n",
        "            char_count[c] = 1 if c not in char_count else char_count[c] + 1\n",
        "        \n",
        "        count = 0\n",
        "        for c in t:\n",
        "            if c not in char_count or char_count[c] == 0:\n",
        "                count += 1\n",
        "            else:\n",
        "                char_count[c] = char_count[c] - 1 \n",
        "        \n",
        "        return count\n",
        "\t"
      ],
      "execution_count": 16,
      "outputs": []
    },
    {
      "cell_type": "code",
      "metadata": {
        "id": "2EEX8eT5DMg4",
        "colab_type": "code",
        "colab": {
          "base_uri": "https://localhost:8080/",
          "height": 35
        },
        "outputId": "e3b284bd-22c3-4a91-8848-ccda032ad5c4"
      },
      "source": [
        "print(minSteps1('abc','dfa'))"
      ],
      "execution_count": 17,
      "outputs": [
        {
          "output_type": "stream",
          "text": [
            "2\n"
          ],
          "name": "stdout"
        }
      ]
    },
    {
      "cell_type": "code",
      "metadata": {
        "id": "7BCCkTgVDo4K",
        "colab_type": "code",
        "colab": {
          "base_uri": "https://localhost:8080/",
          "height": 52
        },
        "outputId": "b796fe52-e4fa-4f9c-d5ea-518f535c4022"
      },
      "source": [
        "a={}\n",
        "a[3]=1\n",
        "a[4]=2\n",
        "a[3]+1\n",
        "for i in a:\n",
        "   print(i)"
      ],
      "execution_count": 26,
      "outputs": [
        {
          "output_type": "stream",
          "text": [
            "3\n",
            "4\n"
          ],
          "name": "stdout"
        }
      ]
    },
    {
      "cell_type": "code",
      "metadata": {
        "id": "KC2u-0pEGl3h",
        "colab_type": "code",
        "colab": {}
      },
      "source": [
        "#两边都删 'abc' 'adjguios\" 各删多少\n",
        "#!/bin/python3\n",
        "\n",
        "import math\n",
        "import os\n",
        "import random\n",
        "import re\n",
        "import sys\n",
        "\n",
        "# Complete the makeAnagram function below.\n",
        "def makeAnagram(a, b):\n",
        "    char_a={}\n",
        "    for i in a:\n",
        "        if i not in char_a:\n",
        "            char_a[i]=1\n",
        "        else:\n",
        "            char_a[i]=char_a[i]+1\n",
        "    char_b={}\n",
        "    for i in b:\n",
        "        if i not in char_b:\n",
        "            char_b[i]=1\n",
        "        else:\n",
        "            char_b[i]=char_b[i]+1\n",
        "    count=0\n",
        "    for i in char_a:\n",
        "        if i not in char_b:\n",
        "            count=count+char_a[i]\n",
        "        elif char_a[i]>char_b[i]:\n",
        "            count=count+char_a[i]-char_b[i]\n",
        "    for i in char_b:\n",
        "        if i not in char_a:\n",
        "            count=count+char_b[i]\n",
        "        elif char_b[i]>char_a[i]:\n",
        "            count=count+char_b[i]-char_a[i]   \n",
        "    return count\n",
        "\n",
        "\n"
      ],
      "execution_count": 28,
      "outputs": []
    },
    {
      "cell_type": "code",
      "metadata": {
        "id": "d7kbLDavM5XO",
        "colab_type": "code",
        "colab": {}
      },
      "source": [
        "#快速建字典\n",
        "from collections import Counter\n",
        "def number_needed(a, b):\n",
        "    ct_a = Counter(a)\n",
        "    ct_b = Counter(b)\n",
        "    ct_a.subtract(ct_b)\n",
        "    return sum(abs(i) for i in ct_a.values())\n",
        "\n"
      ],
      "execution_count": 29,
      "outputs": []
    },
    {
      "cell_type": "code",
      "metadata": {
        "id": "xkLsyFi2NHL0",
        "colab_type": "code",
        "colab": {
          "base_uri": "https://localhost:8080/",
          "height": 35
        },
        "outputId": "de550a1f-c894-4a3c-d0b2-087fc596a685"
      },
      "source": [
        "print(number_needed('abc','dfadfc'))"
      ],
      "execution_count": 30,
      "outputs": [
        {
          "output_type": "stream",
          "text": [
            "5\n"
          ],
          "name": "stdout"
        }
      ]
    },
    {
      "cell_type": "code",
      "metadata": {
        "id": "9GcPBZDPNPuT",
        "colab_type": "code",
        "colab": {
          "base_uri": "https://localhost:8080/",
          "height": 69
        },
        "outputId": "d03d3f41-e392-417b-e569-ab6ca1e5437a"
      },
      "source": [
        "a='gfdg'\n",
        "b='abcfg'\n",
        "print(Counter(a))\n",
        "cc=Counter(a)\n",
        "dd=Counter(b)\n",
        "cc.subtract(Counter(b))\n",
        "print(cc)\n",
        "print(set(a))"
      ],
      "execution_count": 47,
      "outputs": [
        {
          "output_type": "stream",
          "text": [
            "Counter({'g': 2, 'f': 1, 'd': 1})\n",
            "Counter({'g': 1, 'd': 1, 'f': 0, 'a': -1, 'b': -1, 'c': -1})\n",
            "{'g', 'd', 'f'}\n"
          ],
          "name": "stdout"
        }
      ]
    },
    {
      "cell_type": "code",
      "metadata": {
        "id": "P6oHUsc0Q24i",
        "colab_type": "code",
        "colab": {}
      },
      "source": [
        "class Solution:\n",
        "    def set_intersection(self, set1, set2):\n",
        "        return [x for x in set1 if x in set2]\n",
        "        \n",
        "    def intersection(self, nums1, nums2):\n",
        "        \"\"\"\n",
        "        :type nums1: List[int]\n",
        "        :type nums2: List[int]\n",
        "        :rtype: List[int]\n",
        "        \"\"\"  \n",
        "        set1 = set(nums1)\n",
        "        set2 = set(nums2)\n",
        "        \n",
        "        if len(set1) < len(set2):\n",
        "            return self.set_intersection(set1, set2)\n",
        "        else:\n",
        "            return self.set_intersection(set2, set1)"
      ],
      "execution_count": null,
      "outputs": []
    },
    {
      "cell_type": "code",
      "metadata": {
        "id": "fBSbCzVwQST8",
        "colab_type": "code",
        "colab": {
          "base_uri": "https://localhost:8080/",
          "height": 139
        },
        "outputId": "2d3a9978-9025-4f96-a913-84394acbca27"
      },
      "source": [
        "set1=set([1,2,3])  \n",
        "#set1=set('asdf')\n",
        "set2=set([3,4,5])\n",
        "#set2=set('ashgfj')\n",
        "print(list(set1&set2))   #intersection\n",
        "print(list(set1.intersection(set2)))   #intersection\n",
        "print(list(set1.union(set2)))   #union\n",
        "print(list(set1|set2))    #union2\n",
        "print(list(set1^set2))   #union-inter\n",
        "print(list(set1.difference(set2)))   #difference\n",
        "print(list(set2.difference(set1)))   #difference\n",
        "\n"
      ],
      "execution_count": 46,
      "outputs": [
        {
          "output_type": "stream",
          "text": [
            "[3]\n",
            "[3]\n",
            "[1, 2, 3, 4, 5]\n",
            "[1, 2, 3, 4, 5]\n",
            "[1, 2, 4, 5]\n",
            "[1, 2]\n",
            "[4, 5]\n"
          ],
          "name": "stdout"
        }
      ]
    }
  ]
}