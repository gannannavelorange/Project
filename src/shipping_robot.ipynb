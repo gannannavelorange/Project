{
  "nbformat": 4,
  "nbformat_minor": 0,
  "metadata": {
    "colab": {
      "name": "shipping robot.ipynb",
      "provenance": [],
      "authorship_tag": "ABX9TyPpXBQEmsxJ7V8L1wTyWoQH",
      "include_colab_link": true
    },
    "kernelspec": {
      "name": "python3",
      "display_name": "Python 3"
    }
  },
  "cells": [
    {
      "cell_type": "markdown",
      "metadata": {
        "id": "view-in-github",
        "colab_type": "text"
      },
      "source": [
        "<a href=\"https://colab.research.google.com/github/gannannavelorange/Project/blob/master/src/shipping_robot.ipynb\" target=\"_parent\"><img src=\"https://colab.research.google.com/assets/colab-badge.svg\" alt=\"Open In Colab\"/></a>"
      ]
    },
    {
      "cell_type": "code",
      "metadata": {
        "id": "Msp0ZH-QgwQj",
        "colab_type": "code",
        "colab": {}
      },
      "source": [
        "def shipping(package):\n",
        "  a=package[0]*3+max(package[1]-package[0],0)*2+max(package[2]-max(package[1],package[0]),0)*1\n",
        "  b=package[0]+package[1]+package[2]\n",
        "  return a+b"
      ],
      "execution_count": 7,
      "outputs": []
    },
    {
      "cell_type": "code",
      "metadata": {
        "id": "0MnTSlAShNI7",
        "colab_type": "code",
        "colab": {
          "base_uri": "https://localhost:8080/",
          "height": 35
        },
        "outputId": "2ee6ab82-1d5f-49d4-a447-c8d1b9a6d366"
      },
      "source": [
        "bb=shipping([7,4,7])\n",
        "print(bb)"
      ],
      "execution_count": 8,
      "outputs": [
        {
          "output_type": "stream",
          "text": [
            "39\n"
          ],
          "name": "stdout"
        }
      ]
    },
    {
      "cell_type": "code",
      "metadata": {
        "id": "92APM14kWCse",
        "colab_type": "code",
        "colab": {}
      },
      "source": [
        ""
      ],
      "execution_count": null,
      "outputs": []
    },
    {
      "cell_type": "code",
      "metadata": {
        "id": "9vrXTRx7hYhY",
        "colab_type": "code",
        "colab": {
          "base_uri": "https://localhost:8080/",
          "height": 35
        },
        "outputId": "de1c0ffd-377f-47a5-ec0f-7c8f8d9731cc"
      },
      "source": [
        "a=[1,5,33]\n",
        "print(a[1])"
      ],
      "execution_count": 6,
      "outputs": [
        {
          "output_type": "stream",
          "text": [
            "5\n"
          ],
          "name": "stdout"
        }
      ]
    }
  ]
}