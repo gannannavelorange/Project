{
  "nbformat": 4,
  "nbformat_minor": 0,
  "metadata": {
    "colab": {
      "name": "stringAnagram.ipynb",
      "provenance": [],
      "authorship_tag": "ABX9TyNDOlO/VYMqfetctP3MRgWl",
      "include_colab_link": true
    },
    "kernelspec": {
      "name": "python3",
      "display_name": "Python 3"
    }
  },
  "cells": [
    {
      "cell_type": "markdown",
      "metadata": {
        "id": "view-in-github",
        "colab_type": "text"
      },
      "source": [
        "<a href=\"https://colab.research.google.com/github/gannannavelorange/Project/blob/master/src/1347stringAnagram.ipynb\" target=\"_parent\"><img src=\"https://colab.research.google.com/assets/colab-badge.svg\" alt=\"Open In Colab\"/></a>"
      ]
    },
    {
      "cell_type": "code",
      "metadata": {
        "id": "uSxrGhz5CFYT",
        "colab_type": "code",
        "colab": {}
      },
      "source": [
        "import math\n",
        "import os\n",
        "import random\n",
        "import re\n",
        "import sys"
      ],
      "execution_count": 18,
      "outputs": []
    },
    {
      "cell_type": "code",
      "metadata": {
        "id": "GOSFo4BI5C6c",
        "colab_type": "code",
        "colab": {}
      },
      "source": [
        "def minSteps(s, t):\n",
        "        \"\"\"\n",
        "        :type s: str\n",
        "        :type t: str\n",
        "        :rtype: int\n",
        "        \"\"\"\n",
        "        hashmap=defaultdict(int)\n",
        "        for i in s:\n",
        "            hashmap[i]+=1\n",
        "        count=0    \n",
        "        for i in t:\n",
        "            if i in hashmap and hashmap[i]>0:\n",
        "                hashmap[i]-=1\n",
        "            else:\n",
        "                count+=1\n",
        "        return count"
      ],
      "execution_count": 19,
      "outputs": []
    },
    {
      "cell_type": "code",
      "metadata": {
        "id": "9i8SAh7S5Huj",
        "colab_type": "code",
        "colab": {}
      },
      "source": [
        "print(minSteps('abc','dfa'))"
      ],
      "execution_count": null,
      "outputs": []
    },
    {
      "cell_type": "code",
      "metadata": {
        "id": "S6Q_1lfxCtS7",
        "colab_type": "code",
        "colab": {}
      },
      "source": [
        "    def minSteps1(s: str, t: str) -> int:\n",
        "\t\t\n",
        "\t\t\t#The approach is to track the number of char differences between the two strings.\n",
        "\t\t\t#If a char in t is missing from s, then we increment count as we would have to replace it with something else.\n",
        "\t\t\n",
        "        char_count = {}\n",
        "        for c in s:\n",
        "            char_count[c] = 1 if c not in char_count else char_count[c] + 1\n",
        "        \n",
        "        count = 0\n",
        "        for c in t:\n",
        "            if c not in char_count or char_count[c] == 0:\n",
        "                count += 1\n",
        "            else:\n",
        "                char_count[c] = char_count[c] - 1 \n",
        "        \n",
        "        return count\n",
        "\t"
      ],
      "execution_count": 16,
      "outputs": []
    },
    {
      "cell_type": "code",
      "metadata": {
        "id": "2EEX8eT5DMg4",
        "colab_type": "code",
        "colab": {
          "base_uri": "https://localhost:8080/",
          "height": 35
        },
        "outputId": "e3b284bd-22c3-4a91-8848-ccda032ad5c4"
      },
      "source": [
        "print(minSteps1('abc','dfa'))"
      ],
      "execution_count": 17,
      "outputs": [
        {
          "output_type": "stream",
          "text": [
            "2\n"
          ],
          "name": "stdout"
        }
      ]
    },
    {
      "cell_type": "code",
      "metadata": {
        "id": "7BCCkTgVDo4K",
        "colab_type": "code",
        "colab": {
          "base_uri": "https://localhost:8080/",
          "height": 201
        },
        "outputId": "32ec0e5c-93e1-44f4-9edf-5191aabb46ee"
      },
      "source": [
        "a={}\n",
        "a[3]=1\n",
        "a[4]=2\n",
        "a[3]+1\n",
        "print(a[5]==0)"
      ],
      "execution_count": 24,
      "outputs": [
        {
          "output_type": "error",
          "ename": "KeyError",
          "evalue": "ignored",
          "traceback": [
            "\u001b[0;31m---------------------------------------------------------------------------\u001b[0m",
            "\u001b[0;31mKeyError\u001b[0m                                  Traceback (most recent call last)",
            "\u001b[0;32m<ipython-input-24-f10c0e03f8c4>\u001b[0m in \u001b[0;36m<module>\u001b[0;34m()\u001b[0m\n\u001b[1;32m      3\u001b[0m \u001b[0ma\u001b[0m\u001b[0;34m[\u001b[0m\u001b[0;36m4\u001b[0m\u001b[0;34m]\u001b[0m\u001b[0;34m=\u001b[0m\u001b[0;36m2\u001b[0m\u001b[0;34m\u001b[0m\u001b[0;34m\u001b[0m\u001b[0m\n\u001b[1;32m      4\u001b[0m \u001b[0ma\u001b[0m\u001b[0;34m[\u001b[0m\u001b[0;36m3\u001b[0m\u001b[0;34m]\u001b[0m\u001b[0;34m+\u001b[0m\u001b[0;36m1\u001b[0m\u001b[0;34m\u001b[0m\u001b[0;34m\u001b[0m\u001b[0m\n\u001b[0;32m----> 5\u001b[0;31m \u001b[0mprint\u001b[0m\u001b[0;34m(\u001b[0m\u001b[0ma\u001b[0m\u001b[0;34m[\u001b[0m\u001b[0;36m5\u001b[0m\u001b[0;34m]\u001b[0m\u001b[0;34m==\u001b[0m\u001b[0;36m0\u001b[0m\u001b[0;34m)\u001b[0m\u001b[0;34m\u001b[0m\u001b[0;34m\u001b[0m\u001b[0m\n\u001b[0m",
            "\u001b[0;31mKeyError\u001b[0m: 5"
          ]
        }
      ]
    }
  ]
}