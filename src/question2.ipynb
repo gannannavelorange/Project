{
  "nbformat": 4,
  "nbformat_minor": 0,
  "metadata": {
    "colab": {
      "name": "question2.ipynb",
      "provenance": [],
      "authorship_tag": "ABX9TyMVMwITOQRrjIGRaWGVmlOW",
      "include_colab_link": true
    },
    "kernelspec": {
      "name": "python3",
      "display_name": "Python 3"
    }
  },
  "cells": [
    {
      "cell_type": "markdown",
      "metadata": {
        "id": "view-in-github",
        "colab_type": "text"
      },
      "source": [
        "<a href=\"https://colab.research.google.com/github/gannannavelorange/Project/blob/master/src/question2.ipynb\" target=\"_parent\"><img src=\"https://colab.research.google.com/assets/colab-badge.svg\" alt=\"Open In Colab\"/></a>"
      ]
    },
    {
      "cell_type": "code",
      "metadata": {
        "id": "odwpB5-xhVft",
        "colab_type": "code",
        "colab": {
          "base_uri": "https://localhost:8080/",
          "height": 121
        },
        "outputId": "81eeeee8-1f00-427d-c87d-92193c02b7cf"
      },
      "source": [
        "!git clone https://github.com/gannannavelorange/Project"
      ],
      "execution_count": 21,
      "outputs": [
        {
          "output_type": "stream",
          "text": [
            "Cloning into 'Project'...\n",
            "remote: Enumerating objects: 24, done.\u001b[K\n",
            "remote: Counting objects:   4% (1/24)\u001b[K\rremote: Counting objects:   8% (2/24)\u001b[K\rremote: Counting objects:  12% (3/24)\u001b[K\rremote: Counting objects:  16% (4/24)\u001b[K\rremote: Counting objects:  20% (5/24)\u001b[K\rremote: Counting objects:  25% (6/24)\u001b[K\rremote: Counting objects:  29% (7/24)\u001b[K\rremote: Counting objects:  33% (8/24)\u001b[K\rremote: Counting objects:  37% (9/24)\u001b[K\rremote: Counting objects:  41% (10/24)\u001b[K\rremote: Counting objects:  45% (11/24)\u001b[K\rremote: Counting objects:  50% (12/24)\u001b[K\rremote: Counting objects:  54% (13/24)\u001b[K\rremote: Counting objects:  58% (14/24)\u001b[K\rremote: Counting objects:  62% (15/24)\u001b[K\rremote: Counting objects:  66% (16/24)\u001b[K\rremote: Counting objects:  70% (17/24)\u001b[K\rremote: Counting objects:  75% (18/24)\u001b[K\rremote: Counting objects:  79% (19/24)\u001b[K\rremote: Counting objects:  83% (20/24)\u001b[K\rremote: Counting objects:  87% (21/24)\u001b[K\rremote: Counting objects:  91% (22/24)\u001b[K\rremote: Counting objects:  95% (23/24)\u001b[K\rremote: Counting objects: 100% (24/24)\u001b[K\rremote: Counting objects: 100% (24/24), done.\u001b[K\n",
            "remote: Compressing objects:   6% (1/16)\u001b[K\rremote: Compressing objects:  12% (2/16)\u001b[K\rremote: Compressing objects:  18% (3/16)\u001b[K\rremote: Compressing objects:  25% (4/16)\u001b[K\rremote: Compressing objects:  31% (5/16)\u001b[K\rremote: Compressing objects:  37% (6/16)\u001b[K\rremote: Compressing objects:  43% (7/16)\u001b[K\rremote: Compressing objects:  50% (8/16)\u001b[K\rremote: Compressing objects:  56% (9/16)\u001b[K\rremote: Compressing objects:  62% (10/16)\u001b[K\rremote: Compressing objects:  68% (11/16)\u001b[K\rremote: Compressing objects:  75% (12/16)\u001b[K\rremote: Compressing objects:  81% (13/16)\u001b[K\rremote: Compressing objects:  87% (14/16)\u001b[K\rremote: Compressing objects:  93% (15/16)\u001b[K\rremote: Compressing objects: 100% (16/16)\u001b[K\rremote: Compressing objects: 100% (16/16), done.\u001b[K\n",
            "remote: Total 24 (delta 5), reused 0 (delta 0), pack-reused 0\u001b[K\n",
            "Unpacking objects:   4% (1/24)   \rUnpacking objects:   8% (2/24)   \rUnpacking objects:  12% (3/24)   \rUnpacking objects:  16% (4/24)   \rUnpacking objects:  20% (5/24)   \rUnpacking objects:  25% (6/24)   \rUnpacking objects:  29% (7/24)   \rUnpacking objects:  33% (8/24)   \rUnpacking objects:  37% (9/24)   \rUnpacking objects:  41% (10/24)   \rUnpacking objects:  45% (11/24)   \rUnpacking objects:  50% (12/24)   \rUnpacking objects:  54% (13/24)   \rUnpacking objects:  58% (14/24)   \rUnpacking objects:  62% (15/24)   \rUnpacking objects:  66% (16/24)   \rUnpacking objects:  70% (17/24)   \rUnpacking objects:  75% (18/24)   \rUnpacking objects:  79% (19/24)   \rUnpacking objects:  83% (20/24)   \rUnpacking objects:  87% (21/24)   \rUnpacking objects:  91% (22/24)   \rUnpacking objects:  95% (23/24)   \rUnpacking objects: 100% (24/24)   \rUnpacking objects: 100% (24/24), done.\n"
          ],
          "name": "stdout"
        }
      ]
    },
    {
      "cell_type": "code",
      "metadata": {
        "id": "h190R307hZhJ",
        "colab_type": "code",
        "colab": {
          "base_uri": "https://localhost:8080/",
          "height": 35
        },
        "outputId": "2749587d-d383-4e4d-ce71-b4db70b1feb9"
      },
      "source": [
        "cd Project/src"
      ],
      "execution_count": 22,
      "outputs": [
        {
          "output_type": "stream",
          "text": [
            "/content/Project/src/Project/src\n"
          ],
          "name": "stdout"
        }
      ]
    },
    {
      "cell_type": "code",
      "metadata": {
        "id": "fYEjLarIhZk0",
        "colab_type": "code",
        "colab": {}
      },
      "source": [
        "import matplotlib.pyplot as plt\n",
        "import numpy as np\n",
        "import scipy.optimize as so\n",
        "import pandas as pd\n",
        "import math\n",
        "from scipy.stats import norm\n",
        "import csv\n"
      ],
      "execution_count": null,
      "outputs": []
    },
    {
      "cell_type": "code",
      "metadata": {
        "id": "-gz7D5P6hZn3",
        "colab_type": "code",
        "colab": {}
      },
      "source": [
        "def gbs(option_type, fs, x, t, r, b, v):\n",
        "    t__sqrt = math.sqrt(t)\n",
        "    d1 = (math.log(fs / x) + (b + (v * v) / 2) * t) / (v * t__sqrt)\n",
        "    d2 = d1 - v * t__sqrt\n",
        "\n",
        "    #if option_type == \"c\":\n",
        "    if option_type == 1:\n",
        "        # it's a call\n",
        "        #_debug(\"     Call Option\")\n",
        "        value = fs * math.exp((b - r) * t) * norm.cdf(d1) - x * math.exp(-r * t) * norm.cdf(d2)\n",
        "        delta = math.exp((b - r) * t) * norm.cdf(d1)\n",
        "        gamma = math.exp((b - r) * t) * norm.pdf(d1) / (fs * v * t__sqrt)\n",
        "        theta = -(fs * v * math.exp((b - r) * t) * norm.pdf(d1)) / (2 * t__sqrt) - (b - r) * fs * math.exp(\n",
        "            (b - r) * t) * norm.cdf(d1) - r * x * math.exp(-r * t) * norm.cdf(d2)\n",
        "        vega = math.exp((b - r) * t) * fs * t__sqrt * norm.pdf(d1)\n",
        "        rho = x * t * math.exp(-r * t) * norm.cdf(d2)\n",
        "    else:\n",
        "        # it's a put\n",
        "        #_debug(\"     Put Option\")\n",
        "        value = x * math.exp(-r * t) * norm.cdf(-d2) - (fs * math.exp((b - r) * t) * norm.cdf(-d1))\n",
        "        delta = -math.exp((b - r) * t) * norm.cdf(-d1)\n",
        "        gamma = math.exp((b - r) * t) * norm.pdf(d1) / (fs * v * t__sqrt)\n",
        "        theta = -(fs * v * math.exp((b - r) * t) * norm.pdf(d1)) / (2 * t__sqrt) + (b - r) * fs * math.exp(\n",
        "            (b - r) * t) * norm.cdf(-d1) + r * x * math.exp(-r * t) * norm.cdf(-d2)\n",
        "        vega = math.exp((b - r) * t) * fs * t__sqrt * norm.pdf(d1)\n",
        "        rho = -x * t * math.exp(-r * t) * norm.cdf(-d2)\n",
        "\n",
        "    #_debug(\"     d1= {0}\\n     d2 = {1}\".format(d1, d2))\n",
        "    #_debug(\"     delta = {0}\\n     gamma = {1}\\n     theta = {2}\\n     vega = {3}\\n     rho={4}\".format(delta, gamma,theta, vega,theta, vega,\n",
        "                                                        \n",
        "    \n",
        "    return value, delta, gamma, theta, vega, rho"
      ],
      "execution_count": null,
      "outputs": []
    },
    {
      "cell_type": "code",
      "metadata": {
        "id": "Om0VErhKhZqJ",
        "colab_type": "code",
        "colab": {
          "base_uri": "https://localhost:8080/",
          "height": 35
        },
        "outputId": "2055b983-73f8-47d2-e0e5-e0b688dd521f"
      },
      "source": [
        "#a=gbs(\"c\", 2900, 2900,0.39285, 0.025, 0, 0.136015)\n",
        "a=gbs(1, 2900, 2900,0.39285, 0.025, 0, 0.136015)\n",
        "print(a)"
      ],
      "execution_count": null,
      "outputs": [
        {
          "output_type": "stream",
          "text": [
            "(97.63632742298137, 0.5119472600430428, 0.0015964378845164623, -121.75052449780648, 717.4003503976213, 544.8871639848188)\n"
          ],
          "name": "stdout"
        }
      ]
    },
    {
      "cell_type": "code",
      "metadata": {
        "id": "xgxdFMhnqypZ",
        "colab_type": "code",
        "colab": {
          "base_uri": "https://localhost:8080/",
          "height": 35
        },
        "outputId": "3c148952-b31b-4ee3-a7f2-8d074c69b95e"
      },
      "source": [
        "aa=gbs(1, 2900,3300,0.39285, 0.025, 0, 0.098)[0]\n",
        "\n",
        "print(aa)"
      ],
      "execution_count": null,
      "outputs": [
        {
          "output_type": "stream",
          "text": [
            "1.2045960475401145\n"
          ],
          "name": "stdout"
        }
      ]
    },
    {
      "cell_type": "code",
      "metadata": {
        "id": "szbWp_mqlmkd",
        "colab_type": "code",
        "colab": {}
      },
      "source": [
        "#ATM volatility\n",
        "def init_vol(t,C,F):\n",
        "  v=2/math.sqrt(t)*norm.ppf(1/2*(C/F+1))\n",
        "  return v"
      ],
      "execution_count": null,
      "outputs": []
    },
    {
      "cell_type": "code",
      "metadata": {
        "id": "JZ3LZXnMmXBM",
        "colab_type": "code",
        "colab": {
          "base_uri": "https://localhost:8080/",
          "height": 35
        },
        "outputId": "12281fd0-2ba6-445c-de76-bc0547c56909"
      },
      "source": [
        "# Call price=98.6 Future price=2900\n",
        "ATMvol=init_vol(0.39285,98.6,2900)\n",
        "print(ATMvol)"
      ],
      "execution_count": null,
      "outputs": [
        {
          "output_type": "stream",
          "text": [
            "0.1360150517495224\n"
          ],
          "name": "stdout"
        }
      ]
    },
    {
      "cell_type": "code",
      "metadata": {
        "id": "cRTRy4Ztm7gS",
        "colab_type": "code",
        "colab": {}
      },
      "source": [
        "def getdata():\n",
        "  with open('Data.csv') as file:\n",
        "      reader=csv.reader(file)\n",
        "      rows=[row for row in reader]\n",
        "      col0=[row[0] for row in rows[1:42]]\n",
        "      col0=[float(c) for c in col0] # Strike\n",
        "      col1=[row[1] for row in rows[1:42]]\n",
        "      col1=[float(c) for c in col1] # Call price\n",
        "      col2=[row[1] for row in rows[1:42]]\n",
        "      col2=[float(c) for c in col2] # Put price\n",
        "      \n",
        "  return col0,col1,col2"
      ],
      "execution_count": null,
      "outputs": []
    },
    {
      "cell_type": "code",
      "metadata": {
        "id": "vC1AVJxq2qfM",
        "colab_type": "code",
        "colab": {
          "base_uri": "https://localhost:8080/",
          "height": 55
        },
        "outputId": "6729ae16-4bf5-4c09-b975-ba46c1833e65"
      },
      "source": [
        "d=getdata()[1]\n",
        "print(d)"
      ],
      "execution_count": null,
      "outputs": [
        {
          "output_type": "stream",
          "text": [
            "[406.82, 389.14, 370.39, 354.36, 335.09, 319.47, 301.22, 282.38, 264.64, 248.01, 232.3, 219.94, 203.18, 185.46, 168.64, 156.89, 145.87, 137.2, 117.19, 106.6, 98.6, 83.45, 78.15, 64.53, 57.96, 50.9, 45.17, 42.2, 35.41, 29.19, 23.69, 21.39, 15.56, 12.28, 8.97, 7.34, 5.43, 4.01, 3.4, 2.14, 1.25]\n"
          ],
          "name": "stdout"
        }
      ]
    },
    {
      "cell_type": "code",
      "metadata": {
        "id": "AJ1z2CJioX0f",
        "colab_type": "code",
        "colab": {}
      },
      "source": [
        "#define an error function\n",
        "def error_function(v,option_type, fs, x, t, r, b,theo_price):\n",
        "  #gbm.vol_ratio = vol\n",
        "  gbs_price=gbs(option_type, fs, x, t, r, b, v)\n",
        "  return np.abs(theo_price - gbs_price[0])   #x is the x[i]"
      ],
      "execution_count": null,
      "outputs": []
    },
    {
      "cell_type": "code",
      "metadata": {
        "id": "6Bgkj6c6pn23",
        "colab_type": "code",
        "colab": {}
      },
      "source": [
        "def implied_volatility(option_type, fs, x, t, r, b,theo_price):\n",
        "  initial =ATMvol#initial guess\n",
        "  return so.fmin(error_function, initial, args = (option_type, fs, x, t, r, b,theo_price), disp = 0)[0]"
      ],
      "execution_count": 38,
      "outputs": []
    },
    {
      "cell_type": "code",
      "metadata": {
        "id": "2exB3GQipqkk",
        "colab_type": "code",
        "colab": {
          "base_uri": "https://localhost:8080/",
          "height": 350
        },
        "outputId": "aa5f21c4-f3c0-4fba-c706-f31fea475d5f"
      },
      "source": [
        "strike=getdata()[0]\n",
        "callprice=getdata()[1]\n",
        "putprice=getdata()[2]\n",
        "iv=[]\n",
        "ivp=[]\n",
        "for i in range(0,41):\n",
        "  iv.append(implied_volatility(1,2900,strike[i],0.39285, 0.025, 0,callprice[i]))\n",
        "  #iv.append(implied_volatility(1,2900,strike[i],0.39285, 0.025, 0.025,callprice[i]))\n",
        "  ivp.append(implied_volatility(0,2900,strike[i],0.39285, 0.025, 0,putprice[i]))\n",
        "print(iv)\n",
        "\n",
        "\n",
        "plt.plot(strike,iv,'orange')\n",
        "plt.xlabel('strike')\n",
        "plt.ylabel('iv')\n",
        "plt.title('implied volatility curve')\n",
        "plt.legend()\n",
        "plt.show()"
      ],
      "execution_count": 45,
      "outputs": [
        {
          "output_type": "stream",
          "text": [
            "No handles with labels found to put in legend.\n"
          ],
          "name": "stderr"
        },
        {
          "output_type": "stream",
          "text": [
            "[0.17062898963219053, 0.17132218157683682, 0.16755902099590064, 0.17165175906429142, 0.16540306952255157, 0.16851786733849522, 0.16412460773242543, 0.1580656120342205, 0.1542094724140024, 0.1522100079844448, 0.15133998983116412, 0.15573324943723393, 0.15131757524133727, 0.14483477776140546, 0.13940214532336304, 0.14127251831891768, 0.1432117954239402, 0.14756894263528883, 0.1347913811789731, 0.13472164689951166, 0.13735992713913556, 0.12913107462018902, 0.13374163122208058, 0.12570932144911606, 0.1267042801864318, 0.126084558286218, 0.12656398145751532, 0.1306222674711722, 0.1277038048587122, 0.12455538515802822, 0.12143062530216149, 0.12366461275490787, 0.11713532575533515, 0.114842396233044, 0.11080777006420442, 0.11062845334558932, 0.10815122608472155, 0.10617210082000683, 0.10733765949100493, 0.10301911518435812, 0.09853619721898078]\n"
          ],
          "name": "stdout"
        },
        {
          "output_type": "display_data",
          "data": {
            "image/png": "[encoded data removed]",
            "text/plain": [
              "<Figure size 432x288 with 1 Axes>"
            ]
          },
          "metadata": {
            "tags": [],
            "needs_background": "light"
          }
        }
      ]
    },
    {
      "cell_type": "code",
      "metadata": {
        "id": "XKiVqFvptKxm",
        "colab_type": "code",
        "colab": {
          "base_uri": "https://localhost:8080/",
          "height": 283
        },
        "outputId": "41c2e03b-d068-45ea-e4e7-8146ad81f85a"
      },
      "source": [
        "plt.plot(strike,ivp,'blue')"
      ],
      "execution_count": null,
      "outputs": [
        {
          "output_type": "execute_result",
          "data": {
            "text/plain": [
              "[<matplotlib.lines.Line2D at 0x7fe1e83f9908>]"
            ]
          },
          "metadata": {
            "tags": []
          },
          "execution_count": 20
        },
        {
          "output_type": "display_data",
          "data": {
            "image/png": "[encoded data removed]",
            "text/plain": [
              "<Figure size 432x288 with 1 Axes>"
            ]
          },
          "metadata": {
            "tags": [],
            "needs_background": "light"
          }
        }
      ]
    },
    {
      "cell_type": "code",
      "metadata": {
        "id": "RJut-PRQEdFd",
        "colab_type": "code",
        "colab": {}
      },
      "source": [
        "def getdata1():\n",
        "  with open('AAPL.csv') as file:\n",
        "      reader=csv.reader(file)\n",
        "      rows=[row for row in reader]\n",
        "      col0=[row[0] for row in rows[1:59]]\n",
        "      col0=[float(c) for c in col0] # Strike\n",
        "      col1=[row[1] for row in rows[1:59]]\n",
        "      col1=[float(c) for c in col1] # Call price\n",
        "      \n",
        "      \n",
        "  return col0,col1"
      ],
      "execution_count": 25,
      "outputs": []
    },
    {
      "cell_type": "code",
      "metadata": {
        "id": "TDKq5YF5F8WB",
        "colab_type": "code",
        "colab": {}
      },
      "source": [
        "strike1=getdata1()[0]\n",
        "callprice1=getdata1()[1]\n",
        "for i in range(0,58):\n",
        "  print(strike1[i])"
      ],
      "execution_count": null,
      "outputs": []
    },
    {
      "cell_type": "code",
      "metadata": {
        "id": "iHRmneo6Ev3d",
        "colab_type": "code",
        "colab": {
          "base_uri": "https://localhost:8080/",
          "height": 350
        },
        "outputId": "25e20bc7-0da4-4348-a1bb-46f225485eb4"
      },
      "source": [
        "strike1=getdata1()[0]\n",
        "callprice1=getdata1()[1]\n",
        "iv1=[]\n",
        "for i in range(0,58):\n",
        "  iv1.append(implied_volatility(1,444.45,strike1[i],0.26984, 0.025, 0.025,callprice1[i]))\n",
        "  #iv.append(implied_volatility(1,2900,strike[i],0.39285, 0.025, 0.025,callprice[i]))\n",
        "  #ivp.append(implied_volatility(0,2900,strike[i],0.39285, 0.025, 0,putprice[i]))\n",
        "print(iv1)\n",
        "\n",
        "\n",
        "plt.plot(strike1,iv1,'orange')\n",
        "plt.xlabel('strike')\n",
        "plt.ylabel('iv')\n",
        "plt.title('iv curve')\n",
        "plt.legend()\n",
        "plt.show()"
      ],
      "execution_count": 44,
      "outputs": [
        {
          "output_type": "stream",
          "text": [
            "No handles with labels found to put in legend.\n"
          ],
          "name": "stderr"
        },
        {
          "output_type": "stream",
          "text": [
            "[0.1360150517495224, 0.1360150517495224, 0.1360150517495224, 0.1360150517495224, 0.1360150517495224, 0.1360150517495224, 0.1360150517495224, 0.1360150517495224, 0.1360150517495224, 0.1360150517495224, 0.1360150517495224, 0.1428158043369985, 0.8179233258429783, 0.8372629660136135, 0.7708360838066445, 0.7866956513641571, 0.7191264552460104, 0.5476996722499814, 0.7911918520494319, 0.6614528854514377, 0.7171141231815521, 0.6820477426523786, 0.6812275346987131, 0.09351034807779665, 0.5967660395510299, 0.06800752587476122, 0.4844872082581866, 0.5705990813531239, 0.5158742753757768, 0.41646639966352794, 0.5065099578480995, 0.5669629367812066, 0.5186105156746441, 0.4112330080239468, 0.40607931270375003, 0.504514229183513, 0.4490356288519879, 0.4019616695355517, 0.3964659441779964, 0.4568458681516675, 0.381830047191033, 0.45414947601249245, 0.37203902228665153, 0.40441897271657323, 0.3793411975502551, 0.4047742854738291, 0.3778668156416421, 0.3662311530115072, 0.37357649711477725, 0.36645529890977613, 0.3713051520123194, 0.3681438646767349, 0.3706659211172564, 0.3726865548816505, 0.3730053401591884, 0.3837244951164017, 0.3915845446156967, 0.40517608775072594]\n"
          ],
          "name": "stdout"
        },
        {
          "output_type": "display_data",
          "data": {
            "image/png": "[encoded data removed]",
            "text/plain": [
              "<Figure size 432x288 with 1 Axes>"
            ]
          },
          "metadata": {
            "tags": [],
            "needs_background": "light"
          }
        }
      ]
    },
    {
      "cell_type": "code",
      "metadata": {
        "id": "n3T36OpzuxkB",
        "colab_type": "code",
        "colab": {
          "base_uri": "https://localhost:8080/",
          "height": 35
        },
        "outputId": "98a49a69-4b39-4dcd-c800-213d9578fb08"
      },
      "source": [
        "i = implied_volatility(1, 2900, 2900,0.39285, 0.025, 0,98.6)\n",
        "print(i)"
      ],
      "execution_count": null,
      "outputs": [
        {
          "output_type": "stream",
          "text": [
            "0.13735992713913556\n"
          ],
          "name": "stdout"
        }
      ]
    }
  ]
}