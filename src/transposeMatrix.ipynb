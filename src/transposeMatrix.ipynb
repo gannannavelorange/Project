{
  "nbformat": 4,
  "nbformat_minor": 0,
  "metadata": {
    "colab": {
      "name": "transposeMatrix.ipynb",
      "provenance": [],
      "authorship_tag": "ABX9TyM0cYhf+cXutB3hdhpN6Qz/",
      "include_colab_link": true
    },
    "kernelspec": {
      "name": "python3",
      "display_name": "Python 3"
    }
  },
  "cells": [
    {
      "cell_type": "markdown",
      "metadata": {
        "id": "view-in-github",
        "colab_type": "text"
      },
      "source": [
        "<a href=\"https://colab.research.google.com/github/gannannavelorange/Project/blob/master/src/transposeMatrix.ipynb\" target=\"_parent\"><img src=\"https://colab.research.google.com/assets/colab-badge.svg\" alt=\"Open In Colab\"/></a>"
      ]
    },
    {
      "cell_type": "code",
      "metadata": {
        "id": "tznprcKe5b0S",
        "colab_type": "code",
        "colab": {}
      },
      "source": [
        "def transpose(A):\n",
        "    row, colume =len(A),len(A[0])\n",
        "    ans=[[None]*row for _ in range(colume)]\n",
        "    for i, row in enumerate(A):\n",
        "          for j, value in enumerate(row):\n",
        "              ans[j][i]=value\n",
        "    return ans"
      ],
      "execution_count": 5,
      "outputs": []
    },
    {
      "cell_type": "code",
      "metadata": {
        "id": "eZ8zQgnS5sKD",
        "colab_type": "code",
        "colab": {
          "base_uri": "https://localhost:8080/",
          "height": 35
        },
        "outputId": "d139079b-c6e3-4268-c360-317596070a71"
      },
      "source": [
        "B=[[1,2,3],[6,7,8]]\n",
        "print(transpose(B))"
      ],
      "execution_count": 6,
      "outputs": [
        {
          "output_type": "stream",
          "text": [
            "[[1, 6], [2, 7], [3, 8]]\n"
          ],
          "name": "stdout"
        }
      ]
    }
  ]
}