{
  "nbformat": 4,
  "nbformat_minor": 0,
  "metadata": {
    "colab": {
      "name": "bubblesort.ipynb",
      "provenance": [],
      "authorship_tag": "ABX9TyPS1EXH91cDbxW9TPjirC9t",
      "include_colab_link": true
    },
    "kernelspec": {
      "name": "python3",
      "display_name": "Python 3"
    }
  },
  "cells": [
    {
      "cell_type": "markdown",
      "metadata": {
        "id": "view-in-github",
        "colab_type": "text"
      },
      "source": [
        "<a href=\"https://colab.research.google.com/github/gannannavelorange/Project/blob/master/src/bubblesort.ipynb\" target=\"_parent\"><img src=\"https://colab.research.google.com/assets/colab-badge.svg\" alt=\"Open In Colab\"/></a>"
      ]
    },
    {
      "cell_type": "code",
      "metadata": {
        "id": "jfpLPwyTE-kw",
        "colab_type": "code",
        "colab": {
          "base_uri": "https://localhost:8080/",
          "height": 35
        },
        "outputId": "a4c557b0-1a81-40ab-f730-a4cc74bbaa8b"
      },
      "source": [
        "a=[1,2,3,6]\n",
        "print(a[-2])"
      ],
      "execution_count": 3,
      "outputs": [
        {
          "output_type": "stream",
          "text": [
            "3\n"
          ],
          "name": "stdout"
        }
      ]
    },
    {
      "cell_type": "code",
      "metadata": {
        "id": "gJBxon8YFse4",
        "colab_type": "code",
        "colab": {}
      },
      "source": [
        "def countSwaps(a):\n",
        "     for i in range(len(a)):\n",
        "      for j  in range(len(a)-1):\n",
        "         if a[j]>a[j+1]:\n",
        "               a[j],a[j+1]=a[j+1],a[j]\n",
        "     return a[0],a[-1]"
      ],
      "execution_count": 4,
      "outputs": []
    },
    {
      "cell_type": "code",
      "metadata": {
        "id": "-cT6SgJ8FuXT",
        "colab_type": "code",
        "colab": {
          "base_uri": "https://localhost:8080/",
          "height": 35
        },
        "outputId": "a4f71b89-59a2-4512-b141-892337d8b094"
      },
      "source": [
        "print(countSwaps([2,3,1]))"
      ],
      "execution_count": 6,
      "outputs": [
        {
          "output_type": "stream",
          "text": [
            "(1, 3)\n"
          ],
          "name": "stdout"
        }
      ]
    },
    {
      "cell_type": "code",
      "metadata": {
        "id": "efakIwSzF8gF",
        "colab_type": "code",
        "colab": {}
      },
      "source": [
        "def countSwaps1(a):\n",
        "     for i in range(len(a)):\n",
        "      for j  in range(len(a)-1):\n",
        "         if a[j]<a[j+1]:\n",
        "               a[j],a[j+1]=a[j+1],a[j]\n",
        "     return a"
      ],
      "execution_count": 9,
      "outputs": []
    },
    {
      "cell_type": "code",
      "metadata": {
        "id": "OSla75SLGA5R",
        "colab_type": "code",
        "colab": {
          "base_uri": "https://localhost:8080/",
          "height": 35
        },
        "outputId": "42a358ea-d51e-4826-9365-408cf78f0c61"
      },
      "source": [
        "print(countSwaps1([1,2,3]))"
      ],
      "execution_count": 11,
      "outputs": [
        {
          "output_type": "stream",
          "text": [
            "[3, 2, 1]\n"
          ],
          "name": "stdout"
        }
      ]
    },
    {
      "cell_type": "code",
      "metadata": {
        "id": "NSR_IemQG3Y8",
        "colab_type": "code",
        "colab": {}
      },
      "source": [
        "#!/bin/python3\n",
        "\n",
        "import math\n",
        "import os\n",
        "import random\n",
        "import re\n",
        "import sys\n",
        "\n",
        "# Complete the countSwaps function below.\n",
        "def countSwaps(a):\n",
        "     numSwaps=0\n",
        "     for i in range(len(a)):\n",
        "      for j  in range(len(a)-1):\n",
        "         if a[j]>a[j+1]:\n",
        "               a[j],a[j+1]=a[j+1],a[j]\n",
        "               numSwaps+=1\n",
        "     \n",
        "     print('Array is sorted in', numSwaps, 'swaps.')\n",
        "     print('First Element:', a[0])\n",
        "     print('Last Element:', a[-1])\n",
        "if __name__ == '__main__':\n",
        "    n = int(input())\n",
        "\n",
        "    a = list(map(int, input().rstrip().split()))\n",
        "\n",
        "    countSwaps(a)"
      ],
      "execution_count": null,
      "outputs": []
    },
    {
      "cell_type": "code",
      "metadata": {
        "id": "UnmGBwgDlAtl",
        "colab_type": "code",
        "colab": {}
      },
      "source": [
        "def maximumToys(prices, k):\n",
        "     for i in range(len(prices)):\n",
        "      for j in range(len(prices)-1):\n",
        "        if prices[j]>prices[j+1]:\n",
        "            prices[j],prices[j+1]=prices[j+1],prices[j]\n",
        "\n",
        "     print(prices)\n",
        "     \n",
        "     '''\n",
        "     only=[]\n",
        "     for i in prices:\n",
        "       if i not in only:\n",
        "         only.append(i)\n",
        "     print(only)\n",
        "     prices=only'''\n",
        "     s=0\n",
        "     count=0\n",
        "     for p in prices:\n",
        "         if p+s<=k:\n",
        "            s=s+p\n",
        "            count=count+1\n",
        "            print(p)\n",
        "         else:\n",
        "            return count\n",
        "     return count        "
      ],
      "execution_count": 35,
      "outputs": []
    },
    {
      "cell_type": "code",
      "metadata": {
        "id": "iRYjpPAYlFVj",
        "colab_type": "code",
        "colab": {
          "base_uri": "https://localhost:8080/",
          "height": 295
        },
        "outputId": "ea819212-0728-4a94-f014-1c36d9d94969"
      },
      "source": [
        "p=[1,1,2,3,4]\n",
        "k=11\n",
        "print(maximumToys(p,k))\n",
        "p1=[1 ,12, 5, 111, 200, 1000, 10]\n",
        "print(maximumToys(p1,50))\n",
        "print(maximumToys([45],50))"
      ],
      "execution_count": 40,
      "outputs": [
        {
          "output_type": "stream",
          "text": [
            "[1, 1, 2, 3, 4]\n",
            "1\n",
            "1\n",
            "2\n",
            "3\n",
            "4\n",
            "5\n",
            "[1, 5, 10, 12, 111, 200, 1000]\n",
            "1\n",
            "5\n",
            "10\n",
            "12\n",
            "4\n",
            "[45]\n",
            "45\n",
            "1\n"
          ],
          "name": "stdout"
        }
      ]
    },
    {
      "cell_type": "code",
      "metadata": {
        "id": "8basyqo1vL9D",
        "colab_type": "code",
        "colab": {
          "base_uri": "https://localhost:8080/",
          "height": 35
        },
        "outputId": "02b29bba-e64b-4248-fde0-b4d426556008"
      },
      "source": [
        "b=[1,2,5,9]\n",
        "print(min(b[1:]))"
      ],
      "execution_count": 43,
      "outputs": [
        {
          "output_type": "stream",
          "text": [
            "2\n"
          ],
          "name": "stdout"
        }
      ]
    },
    {
      "cell_type": "code",
      "metadata": {
        "id": "myqCYMZ_xbds",
        "colab_type": "code",
        "colab": {}
      },
      "source": [
        "def maximumToys(prices, k):\n",
        "     s=0\n",
        "     count=0 \n",
        "     for i in range(len(prices)):\n",
        "       for j in range(i,len(prices)):\n",
        "          if prices[i]>prices[j]:\n",
        "             prices[j],prices[i]=prices[i],prices[j]\n",
        "       if s+prices[i]<=k:\n",
        "            s=s+prices[i]\n",
        "            count=count+1\n",
        "             #print(min(prices[i:]))\n",
        "       else:\n",
        "         return count\n",
        "     return count "
      ],
      "execution_count": 52,
      "outputs": []
    },
    {
      "cell_type": "code",
      "metadata": {
        "id": "dfLQOJbMvvkz",
        "colab_type": "code",
        "colab": {}
      },
      "source": [
        "'''不对\n",
        "def maximumToys(prices, k):\n",
        "     s=0\n",
        "     count=0 \n",
        "     for i in range(len(prices)):\n",
        "       if s+min(prices[i:])<=k:\n",
        "          s=s+min(prices[i:])\n",
        "          count=count+1\n",
        "          print(min(prices[i:]))\n",
        "       else:\n",
        "         return count\n",
        "     return count "
      ],
      "execution_count": 46,
      "outputs": []
    },
    {
      "cell_type": "code",
      "metadata": {
        "id": "rjsvMfwwvy0U",
        "colab_type": "code",
        "colab": {
          "base_uri": "https://localhost:8080/",
          "height": 53
        },
        "outputId": "3d6384dd-24a7-41a9-feca-7c004928f966"
      },
      "source": [
        "p=[1,1,2,3,4]\n",
        "p1=[1 ,12, 5, 111, 200, 1000, 10]\n",
        "print(maximumToys(p,7))\n",
        "'''for i in range(len(p1)):\n",
        "  print(min(p1[i:]))'''"
      ],
      "execution_count": 54,
      "outputs": [
        {
          "output_type": "stream",
          "text": [
            "4\n"
          ],
          "name": "stdout"
        },
        {
          "output_type": "execute_result",
          "data": {
            "application/vnd.google.colaboratory.intrinsic+json": {
              "type": "string"
            },
            "text/plain": [
              "'for i in range(len(p1)):\\n  print(min(p1[i:]))'"
            ]
          },
          "metadata": {
            "tags": []
          },
          "execution_count": 54
        }
      ]
    }
  ]
}