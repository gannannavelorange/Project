{
  "nbformat": 4,
  "nbformat_minor": 0,
  "metadata": {
    "colab": {
      "name": "miniabsdiff.ipynb",
      "provenance": [],
      "authorship_tag": "ABX9TyMRHN9tUhhuyNX7FbG9VWHU",
      "include_colab_link": true
    },
    "kernelspec": {
      "name": "python3",
      "display_name": "Python 3"
    }
  },
  "cells": [
    {
      "cell_type": "markdown",
      "metadata": {
        "id": "view-in-github",
        "colab_type": "text"
      },
      "source": [
        "<a href=\"https://colab.research.google.com/github/gannannavelorange/Project/blob/master/src/miniabsdiff.ipynb\" target=\"_parent\"><img src=\"https://colab.research.google.com/assets/colab-badge.svg\" alt=\"Open In Colab\"/></a>"
      ]
    },
    {
      "cell_type": "code",
      "metadata": {
        "id": "KaelmS1TYzg9",
        "colab_type": "code",
        "colab": {}
      },
      "source": [
        "def minimumAbsoluteDifference(arr):\n",
        "    ans=[]\n",
        "    for i in range(len(arr)):\n",
        "        for j in range(i+1,len(arr)):\n",
        "            diff=abs(arr[i]-arr[j])\n",
        "            ans.append(diff)\n",
        "    return min(ans)"
      ],
      "execution_count": null,
      "outputs": []
    }
  ]
}