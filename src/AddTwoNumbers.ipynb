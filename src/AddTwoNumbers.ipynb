{
  "nbformat": 4,
  "nbformat_minor": 0,
  "metadata": {
    "colab": {
      "name": "AddTwoNumbers.ipynb",
      "provenance": [],
      "authorship_tag": "ABX9TyP4qNbNbvbcVDpHxxOHP2fz",
      "include_colab_link": true
    },
    "kernelspec": {
      "name": "python3",
      "display_name": "Python 3"
    }
  },
  "cells": [
    {
      "cell_type": "markdown",
      "metadata": {
        "id": "view-in-github",
        "colab_type": "text"
      },
      "source": [
        "<a href=\"https://colab.research.google.com/github/gannannavelorange/Project/blob/master/src/AddTwoNumbers.ipynb\" target=\"_parent\"><img src=\"https://colab.research.google.com/assets/colab-badge.svg\" alt=\"Open In Colab\"/></a>"
      ]
    },
    {
      "cell_type": "code",
      "metadata": {
        "id": "piy77G8AYThL",
        "colab_type": "code",
        "colab": {}
      },
      "source": [
        "class ListNode():\n",
        "    def __init__(self, val):\n",
        "         if isinstance(val,int):\n",
        "            self.val = val\n",
        "            self.next = None\n",
        "            \n",
        "         elif isinstance(val,list):\n",
        "             self.val = val[0]\n",
        "             self.next = None\n",
        "             cur = self\n",
        "             for i in val[1:]:\n",
        "                 cur.next = ListNode(i)\n",
        "                 cur = cur.next\n",
        "    \n",
        "    def gatherAttrs(self):\n",
        "         return \", \".join(\"{}: {}\".format(k, getattr(self, k)) for k in self.__dict__.keys())\n",
        "\n",
        "    def __str__(self):\n",
        "             return self.__class__.__name__+\" {\"+\"{}\".format(self.gatherAttrs())+\"}\""
      ],
      "execution_count": 14,
      "outputs": []
    },
    {
      "cell_type": "code",
      "metadata": {
        "id": "U5FTVYFvYpEI",
        "colab_type": "code",
        "colab": {}
      },
      "source": [
        "class Solution(object):\n",
        "    def addTwoNumbers(self, l1, l2):\n",
        "        \"\"\"\n",
        "        :type l1: ListNode\n",
        "        :type l2: ListNode\n",
        "        :rtype: ListNode\n",
        "        \"\"\"\n",
        "        result = ListNode(0)\n",
        "        result_tail = result\n",
        "        carry = 0\n",
        "                \n",
        "        while l1 or l2 or carry:            \n",
        "            val1  = (l1.val if l1 else 0)\n",
        "            val2  = (l2.val if l2 else 0)\n",
        "            carry, out = divmod(val1+val2 + carry, 10)    \n",
        "                      \n",
        "            result_tail.next = ListNode(out)\n",
        "            result_tail = result_tail.next                      \n",
        "            \n",
        "            l1 = (l1.next if l1 else None)\n",
        "            l2 = (l2.next if l2 else None)\n",
        "               \n",
        "        return result.next"
      ],
      "execution_count": 15,
      "outputs": []
    },
    {
      "cell_type": "code",
      "metadata": {
        "id": "5iwdiWySbmqx",
        "colab_type": "code",
        "colab": {}
      },
      "source": [
        "class Solution1:\n",
        "    def addTwoNumbers(self, l1: ListNode, l2: ListNode) -> ListNode:\n",
        "        re = ListNode(0)\n",
        "        r=re\n",
        "        carry=0\n",
        "        while(l1 or l2):\n",
        "            x= l1.val if l1 else 0\n",
        "            y= l2.val if l2 else 0\n",
        "            s=carry+x+y\n",
        "            carry=s//10\n",
        "            r.next=ListNode(s%10)\n",
        "            r=r.next\n",
        "            if(l1!=None):l1=l1.next\n",
        "            if(l2!=None):l2=l2.next\n",
        "        if(carry>0):\n",
        "            r.next=ListNode(1)\n",
        "        return re.next"
      ],
      "execution_count": null,
      "outputs": []
    },
    {
      "cell_type": "code",
      "metadata": {
        "id": "9DjPvzkjY43r",
        "colab_type": "code",
        "colab": {
          "base_uri": "https://localhost:8080/",
          "height": 35
        },
        "outputId": "1efc7f0e-6dd9-49bf-be1d-3023596c7f8d"
      },
      "source": [
        "test=Solution()\n",
        "print(test.addTwoNumbers(ListNode([3,3,4]),ListNode([2,1,2])))"
      ],
      "execution_count": 23,
      "outputs": [
        {
          "output_type": "stream",
          "text": [
            "ListNode {val: 5, next: ListNode {val: 4, next: ListNode {val: 6, next: None}}}\n"
          ],
          "name": "stdout"
        }
      ]
    },
    {
      "cell_type": "code",
      "metadata": {
        "id": "RW9rGY8YZrsT",
        "colab_type": "code",
        "colab": {
          "base_uri": "https://localhost:8080/",
          "height": 35
        },
        "outputId": "c0446506-d7ea-4feb-ef35-c7e83a932b2a"
      },
      "source": [
        "if __name__ == \"__main__\":\n",
        "    test = Solution()\n",
        "    print(test.addTwoNumbers(ListNode([2,4,3]),ListNode([5,6,4])))"
      ],
      "execution_count": 17,
      "outputs": [
        {
          "output_type": "stream",
          "text": [
            "ListNode {val: 7, next: ListNode {val: 0, next: ListNode {val: 8, next: None}}}\n"
          ],
          "name": "stdout"
        }
      ]
    },
    {
      "cell_type": "code",
      "metadata": {
        "id": "Rv2AMCDZbUEK",
        "colab_type": "code",
        "colab": {
          "base_uri": "https://localhost:8080/",
          "height": 35
        },
        "outputId": "387cae92-82fd-4f74-8c2d-751997c19595"
      },
      "source": [
        "c=[5,2,3]\n",
        "d=ListNode(c)\n",
        "print(d.val)"
      ],
      "execution_count": 22,
      "outputs": [
        {
          "output_type": "stream",
          "text": [
            "5\n"
          ],
          "name": "stdout"
        }
      ]
    },
    {
      "cell_type": "code",
      "metadata": {
        "id": "cPSwb7rVb4kv",
        "colab_type": "code",
        "colab": {
          "base_uri": "https://localhost:8080/",
          "height": 35
        },
        "outputId": "9ec751d2-63ee-4aef-ff9d-198e560b2ef7"
      },
      "source": [
        "11//10\n",
        "11%10"
      ],
      "execution_count": 27,
      "outputs": [
        {
          "output_type": "execute_result",
          "data": {
            "text/plain": [
              "1"
            ]
          },
          "metadata": {
            "tags": []
          },
          "execution_count": 27
        }
      ]
    },
    {
      "cell_type": "code",
      "metadata": {
        "id": "_7DhpTsCb7A5",
        "colab_type": "code",
        "colab": {
          "base_uri": "https://localhost:8080/",
          "height": 35
        },
        "outputId": "56b9c2ea-15f8-4839-cf77-4867d25cc436"
      },
      "source": [
        "print(ListNode(0))"
      ],
      "execution_count": 29,
      "outputs": [
        {
          "output_type": "stream",
          "text": [
            "ListNode {val: 0, next: None}\n"
          ],
          "name": "stdout"
        }
      ]
    }
  ]
}