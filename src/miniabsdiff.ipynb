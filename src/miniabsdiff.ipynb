{
  "nbformat": 4,
  "nbformat_minor": 0,
  "metadata": {
    "colab": {
      "name": "miniabsdiff.ipynb",
      "provenance": [],
      "authorship_tag": "ABX9TyMnQboPc/SUUu8t8Z3EkGKr",
      "include_colab_link": true
    },
    "kernelspec": {
      "name": "python3",
      "display_name": "Python 3"
    }
  },
  "cells": [
    {
      "cell_type": "markdown",
      "metadata": {
        "id": "view-in-github",
        "colab_type": "text"
      },
      "source": [
        "<a href=\"https://colab.research.google.com/github/gannannavelorange/Project/blob/master/src/miniabsdiff.ipynb\" target=\"_parent\"><img src=\"https://colab.research.google.com/assets/colab-badge.svg\" alt=\"Open In Colab\"/></a>"
      ]
    },
    {
      "cell_type": "code",
      "metadata": {
        "id": "KaelmS1TYzg9",
        "colab_type": "code",
        "colab": {}
      },
      "source": [
        "def minimumAbsoluteDifference(arr):\n",
        "    ans=[]\n",
        "    for i in range(len(arr)):\n",
        "        for j in range(i+1,len(arr)):\n",
        "            diff=abs(arr[i]-arr[j])\n",
        "            ans.append(diff)\n",
        "    return min(ans)\n",
        "\n",
        "    #time run out"
      ],
      "execution_count": null,
      "outputs": []
    },
    {
      "cell_type": "code",
      "metadata": {
        "id": "p3t_-4UXeIyH",
        "colab_type": "code",
        "colab": {}
      },
      "source": [
        "def minimumAbsoluteDifference(arr):\n",
        "    ans=[]\n",
        "    arr=sorted(arr)\n",
        "    for i in range(len(arr)-1):\n",
        "        ans.append(arr[i+1]-arr[i])\n",
        "    return min(ans)\n",
        "\n",
        "    #optimize"
      ],
      "execution_count": null,
      "outputs": []
    },
    {
      "cell_type": "code",
      "metadata": {
        "id": "yFsTFMhkbfhN",
        "colab_type": "code",
        "colab": {
          "base_uri": "https://localhost:8080/",
          "height": 52
        },
        "outputId": "40c02705-ce17-418b-e5d5-1d7ead59220d"
      },
      "source": [
        "a=[1,2]\n",
        "b=[3,4]\n",
        "print(sorted(a))\n",
        "print(sorted(a,reverse=True))"
      ],
      "execution_count": null,
      "outputs": [
        {
          "output_type": "stream",
          "text": [
            "[1, 2]\n",
            "[2, 1]\n"
          ],
          "name": "stdout"
        }
      ]
    },
    {
      "cell_type": "code",
      "metadata": {
        "id": "NpEB8Tcnc7bD",
        "colab_type": "code",
        "colab": {}
      },
      "source": [
        "least = max(max(arr), min(arr) * -1) * 2\n",
        "\n",
        "arr = sorted(arr)\n",
        "\n",
        "for i in range(0, math.ceil(len(arr) / 2)):\n",
        "\n",
        "    f = abs(arr[i] - arr[i + 1])\n",
        "\n",
        "    b = abs(arr[-(i + 1)] - arr[-(i + 2)])\n",
        "\n",
        "    if (least > min(f, b)):\n",
        "\n",
        "        least = min(f, b)\n",
        "\n",
        "        if (least == 0):\n",
        "\n",
        "            return 0\n",
        "\n",
        "return least"
      ],
      "execution_count": null,
      "outputs": []
    },
    {
      "cell_type": "code",
      "metadata": {
        "id": "1gA_6oU4eH8a",
        "colab_type": "code",
        "colab": {}
      },
      "source": [
        ""
      ],
      "execution_count": null,
      "outputs": []
    },
    {
      "cell_type": "code",
      "metadata": {
        "id": "FKc_GmgScZ2h",
        "colab_type": "code",
        "colab": {}
      },
      "source": [
        ""
      ],
      "execution_count": null,
      "outputs": []
    }
  ]
}