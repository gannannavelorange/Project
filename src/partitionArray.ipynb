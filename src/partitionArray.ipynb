{
  "nbformat": 4,
  "nbformat_minor": 0,
  "metadata": {
    "colab": {
      "name": "partitionArray.ipynb",
      "provenance": [],
      "authorship_tag": "ABX9TyNqNLw8WbyCSoBKget5o2cK",
      "include_colab_link": true
    },
    "kernelspec": {
      "name": "python3",
      "display_name": "Python 3"
    }
  },
  "cells": [
    {
      "cell_type": "markdown",
      "metadata": {
        "id": "view-in-github",
        "colab_type": "text"
      },
      "source": [
        "<a href=\"https://colab.research.google.com/github/gannannavelorange/Project/blob/master/src/partitionArray.ipynb\" target=\"_parent\"><img src=\"https://colab.research.google.com/assets/colab-badge.svg\" alt=\"Open In Colab\"/></a>"
      ]
    },
    {
      "cell_type": "code",
      "metadata": {
        "id": "FlpTEnI5gXVI",
        "colab_type": "code",
        "colab": {}
      },
      "source": [
        "#!/bin/python3\n",
        "\n",
        "import math\n",
        "import os\n",
        "import random\n",
        "import re\n",
        "import sys\n",
        "\n",
        "\n",
        "\n",
        "#\n",
        "# Complete the 'partitionArray' function below.\n",
        "#\n",
        "# The function is expected to return a STRING.\n",
        "# The function accepts following parameters:\n",
        "#  1. INTEGER k\n",
        "#  2. INTEGER_ARRAY numbers\n",
        "#\n",
        "\n",
        "def partitionArray(k, numbers):\n",
        "    # Write your code here\n",
        "    l=len(numbers)\n",
        "    a=0\n",
        "    if l%k==0:\n",
        "        for i in range(0,l):\n",
        "           for j in range(i,l):\n",
        "             if numbers[i]==numbers[j]:\n",
        "                  a=a+1\n",
        "           if a>k:\n",
        "              return(\"No\")\n",
        "\n",
        "                  \n",
        "        return(\"yes\")\n",
        "    else:\n",
        "        return(\"No\")\n",
        "if __name__ == '__main__':\n",
        "    fptr = open(os.environ['OUTPUT_PATH'], 'w')\n",
        "\n",
        "    k = int(input().strip())\n",
        "\n",
        "    numbers_count = int(input().strip())\n",
        "\n",
        "    numbers = []\n",
        "\n",
        "    for _ in range(numbers_count):\n",
        "        numbers_item = int(input().strip())\n",
        "        numbers.append(numbers_item)\n",
        "\n",
        "    result = partitionArray(k, numbers)\n",
        "\n",
        "    fptr.write(result + '\\n')\n",
        "\n",
        "    fptr.close()\n"
      ],
      "execution_count": null,
      "outputs": []
    }
  ]
}