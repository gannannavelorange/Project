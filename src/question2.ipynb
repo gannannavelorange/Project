{
  "nbformat": 4,
  "nbformat_minor": 0,
  "metadata": {
    "colab": {
      "name": "question2.ipynb",
      "provenance": [],
      "authorship_tag": "ABX9TyMR3SWZgj5zLGsl9XBsikOS",
      "include_colab_link": true
    },
    "kernelspec": {
      "name": "python3",
      "display_name": "Python 3"
    }
  },
  "cells": [
    {
      "cell_type": "markdown",
      "metadata": {
        "id": "view-in-github",
        "colab_type": "text"
      },
      "source": [
        "<a href=\"https://colab.research.google.com/github/gannannavelorange/Project/blob/master/src/question2.ipynb\" target=\"_parent\"><img src=\"https://colab.research.google.com/assets/colab-badge.svg\" alt=\"Open In Colab\"/></a>"
      ]
    },
    {
      "cell_type": "markdown",
      "metadata": {
        "id": "PU0blE4PEiAg",
        "colab_type": "text"
      },
      "source": [
        "# Question2\n"
      ]
    },
    {
      "cell_type": "code",
      "metadata": {
        "id": "odwpB5-xhVft",
        "colab_type": "code",
        "colab": {
          "base_uri": "https://localhost:8080/",
          "height": 121
        },
        "outputId": "15b76a57-0af1-49c3-a638-fe4dfb4f8f4b"
      },
      "source": [
        "!git clone https://github.com/gannannavelorange/Project"
      ],
      "execution_count": 22,
      "outputs": [
        {
          "output_type": "stream",
          "text": [
            "Cloning into 'Project'...\n",
            "remote: Enumerating objects: 36, done.\u001b[K\n",
            "remote: Counting objects:   2% (1/36)\u001b[K\rremote: Counting objects:   5% (2/36)\u001b[K\rremote: Counting objects:   8% (3/36)\u001b[K\rremote: Counting objects:  11% (4/36)\u001b[K\rremote: Counting objects:  13% (5/36)\u001b[K\rremote: Counting objects:  16% (6/36)\u001b[K\rremote: Counting objects:  19% (7/36)\u001b[K\rremote: Counting objects:  22% (8/36)\u001b[K\rremote: Counting objects:  25% (9/36)\u001b[K\rremote: Counting objects:  27% (10/36)\u001b[K\rremote: Counting objects:  30% (11/36)\u001b[K\rremote: Counting objects:  33% (12/36)\u001b[K\rremote: Counting objects:  36% (13/36)\u001b[K\rremote: Counting objects:  38% (14/36)\u001b[K\rremote: Counting objects:  41% (15/36)\u001b[K\rremote: Counting objects:  44% (16/36)\u001b[K\rremote: Counting objects:  47% (17/36)\u001b[K\rremote: Counting objects:  50% (18/36)\u001b[K\rremote: Counting objects:  52% (19/36)\u001b[K\rremote: Counting objects:  55% (20/36)\u001b[K\rremote: Counting objects:  58% (21/36)\u001b[K\rremote: Counting objects:  61% (22/36)\u001b[K\rremote: Counting objects:  63% (23/36)\u001b[K\rremote: Counting objects:  66% (24/36)\u001b[K\rremote: Counting objects:  69% (25/36)\u001b[K\rremote: Counting objects:  72% (26/36)\u001b[K\rremote: Counting objects:  75% (27/36)\u001b[K\rremote: Counting objects:  77% (28/36)\u001b[K\rremote: Counting objects:  80% (29/36)\u001b[K\rremote: Counting objects:  83% (30/36)\u001b[K\rremote: Counting objects:  86% (31/36)\u001b[K\rremote: Counting objects:  88% (32/36)\u001b[K\rremote: Counting objects:  91% (33/36)\u001b[K\rremote: Counting objects:  94% (34/36)\u001b[K\rremote: Counting objects:  97% (35/36)\u001b[K\rremote: Counting objects: 100% (36/36)\u001b[K\rremote: Counting objects: 100% (36/36), done.\u001b[K\n",
            "remote: Compressing objects:   4% (1/25)\u001b[K\rremote: Compressing objects:   8% (2/25)\u001b[K\rremote: Compressing objects:  12% (3/25)\u001b[K\rremote: Compressing objects:  16% (4/25)\u001b[K\rremote: Compressing objects:  20% (5/25)\u001b[K\rremote: Compressing objects:  24% (6/25)\u001b[K\rremote: Compressing objects:  28% (7/25)\u001b[K\rremote: Compressing objects:  32% (8/25)\u001b[K\rremote: Compressing objects:  36% (9/25)\u001b[K\rremote: Compressing objects:  40% (10/25)\u001b[K\rremote: Compressing objects:  44% (11/25)\u001b[K\rremote: Compressing objects:  48% (12/25)\u001b[K\rremote: Compressing objects:  52% (13/25)\u001b[K\rremote: Compressing objects:  56% (14/25)\u001b[K\rremote: Compressing objects:  60% (15/25)\u001b[K\rremote: Compressing objects:  64% (16/25)\u001b[K\rremote: Compressing objects:  68% (17/25)\u001b[K\rremote: Compressing objects:  72% (18/25)\u001b[K\rremote: Compressing objects:  76% (19/25)\u001b[K\rremote: Compressing objects:  80% (20/25)\u001b[K\rremote: Compressing objects:  84% (21/25)\u001b[K\rremote: Compressing objects:  88% (22/25)\u001b[K\rremote: Compressing objects:  92% (23/25)\u001b[K\rremote: Compressing objects:  96% (24/25)\u001b[K\rremote: Compressing objects: 100% (25/25)\u001b[K\rremote: Compressing objects: 100% (25/25), done.\u001b[K\n",
            "Unpacking objects:   2% (1/36)   \rUnpacking objects:   5% (2/36)   \rUnpacking objects:   8% (3/36)   \rUnpacking objects:  11% (4/36)   \rUnpacking objects:  13% (5/36)   \rUnpacking objects:  16% (6/36)   \rUnpacking objects:  19% (7/36)   \rUnpacking objects:  22% (8/36)   \rUnpacking objects:  25% (9/36)   \rUnpacking objects:  27% (10/36)   \rUnpacking objects:  30% (11/36)   \rUnpacking objects:  33% (12/36)   \rUnpacking objects:  36% (13/36)   \rUnpacking objects:  38% (14/36)   \rUnpacking objects:  41% (15/36)   \rUnpacking objects:  44% (16/36)   \rUnpacking objects:  47% (17/36)   \rUnpacking objects:  50% (18/36)   \rUnpacking objects:  52% (19/36)   \rUnpacking objects:  55% (20/36)   \rremote: Total 36 (delta 7), reused 0 (delta 0), pack-reused 0\u001b[K\n",
            "Unpacking objects:  58% (21/36)   \rUnpacking objects:  61% (22/36)   \rUnpacking objects:  63% (23/36)   \rUnpacking objects:  66% (24/36)   \rUnpacking objects:  69% (25/36)   \rUnpacking objects:  72% (26/36)   \rUnpacking objects:  75% (27/36)   \rUnpacking objects:  77% (28/36)   \rUnpacking objects:  80% (29/36)   \rUnpacking objects:  83% (30/36)   \rUnpacking objects:  86% (31/36)   \rUnpacking objects:  88% (32/36)   \rUnpacking objects:  91% (33/36)   \rUnpacking objects:  94% (34/36)   \rUnpacking objects:  97% (35/36)   \rUnpacking objects: 100% (36/36)   \rUnpacking objects: 100% (36/36), done.\n"
          ],
          "name": "stdout"
        }
      ]
    },
    {
      "cell_type": "code",
      "metadata": {
        "id": "h190R307hZhJ",
        "colab_type": "code",
        "colab": {
          "base_uri": "https://localhost:8080/",
          "height": 35
        },
        "outputId": "e05a5634-f5f5-460e-c2d7-24dc75b9ce46"
      },
      "source": [
        "cd Project/src"
      ],
      "execution_count": 23,
      "outputs": [
        {
          "output_type": "stream",
          "text": [
            "/content/Project/src/Project/src\n"
          ],
          "name": "stdout"
        }
      ]
    },
    {
      "cell_type": "code",
      "metadata": {
        "id": "fYEjLarIhZk0",
        "colab_type": "code",
        "colab": {}
      },
      "source": [
        "import matplotlib.pyplot as plt\n",
        "import numpy as np\n",
        "import scipy.optimize as so\n",
        "import pandas as pd\n",
        "import math\n",
        "from scipy.stats import norm\n",
        "import csv\n"
      ],
      "execution_count": 24,
      "outputs": []
    },
    {
      "cell_type": "code",
      "metadata": {
        "id": "-gz7D5P6hZn3",
        "colab_type": "code",
        "colab": {}
      },
      "source": [
        "def gbs(option_type, fs, x, t, r, b, v):\n",
        "    t__sqrt = math.sqrt(t)\n",
        "    d1 = (math.log(fs / x) + (b + (v * v) / 2) * t) / (v * t__sqrt)\n",
        "    d2 = d1 - v * t__sqrt\n",
        "\n",
        "   \n",
        "    if option_type == 1:\n",
        "        \n",
        "        value = fs * math.exp((b - r) * t) * norm.cdf(d1) - x * math.exp(-r * t) * norm.cdf(d2)\n",
        "        delta = math.exp((b - r) * t) * norm.cdf(d1)\n",
        "        gamma = math.exp((b - r) * t) * norm.pdf(d1) / (fs * v * t__sqrt)\n",
        "        theta = -(fs * v * math.exp((b - r) * t) * norm.pdf(d1)) / (2 * t__sqrt) - (b - r) * fs * math.exp(\n",
        "            (b - r) * t) * norm.cdf(d1) - r * x * math.exp(-r * t) * norm.cdf(d2)\n",
        "        vega = math.exp((b - r) * t) * fs * t__sqrt * norm.pdf(d1)\n",
        "        rho = x * t * math.exp(-r * t) * norm.cdf(d2)\n",
        "    else:\n",
        "      \n",
        "        value = x * math.exp(-r * t) * norm.cdf(-d2) - (fs * math.exp((b - r) * t) * norm.cdf(-d1))\n",
        "        delta = -math.exp((b - r) * t) * norm.cdf(-d1)\n",
        "        gamma = math.exp((b - r) * t) * norm.pdf(d1) / (fs * v * t__sqrt)\n",
        "        theta = -(fs * v * math.exp((b - r) * t) * norm.pdf(d1)) / (2 * t__sqrt) + (b - r) * fs * math.exp(\n",
        "            (b - r) * t) * norm.cdf(-d1) + r * x * math.exp(-r * t) * norm.cdf(-d2)\n",
        "        vega = math.exp((b - r) * t) * fs * t__sqrt * norm.pdf(d1)\n",
        "        rho = -x * t * math.exp(-r * t) * norm.cdf(-d2)\n",
        "\n",
        "    return value, delta, gamma, theta, vega, rho"
      ],
      "execution_count": 25,
      "outputs": []
    },
    {
      "cell_type": "code",
      "metadata": {
        "id": "szbWp_mqlmkd",
        "colab_type": "code",
        "colab": {}
      },
      "source": [
        "#ATM volatility\n",
        "def init_vol(t,C,F):\n",
        "  v=2/math.sqrt(t)*norm.ppf(1/2*(C/F+1))\n",
        "  return v"
      ],
      "execution_count": 27,
      "outputs": []
    },
    {
      "cell_type": "code",
      "metadata": {
        "id": "cScz8U3t78Ro",
        "colab_type": "code",
        "colab": {}
      },
      "source": [
        "def _approx_implied_vol(option_type, fs, x, t, r, b, cp):\n",
        "  \n",
        "    ebrt = math.exp((b - r) * t)\n",
        "    ert = math.exp(-r * t)\n",
        "\n",
        "    a = math.sqrt(2 * math.pi) / (fs * ebrt + x * ert)\n",
        "\n",
        "    if option_type == 1:\n",
        "        payoff = fs * ebrt - x * ert\n",
        "    else:\n",
        "        payoff = x * ert - fs * ebrt\n",
        "\n",
        "    b = cp - payoff / 2\n",
        "    c = (payoff ** 2) / math.pi\n",
        "\n",
        "    v = (a * (b + math.sqrt(b ** 2 + c))) / math.sqrt(t)\n",
        "\n",
        "    return v"
      ],
      "execution_count": 28,
      "outputs": []
    },
    {
      "cell_type": "code",
      "metadata": {
        "id": "RyBR3Hsp8A22",
        "colab_type": "code",
        "colab": {
          "base_uri": "https://localhost:8080/",
          "height": 35
        },
        "outputId": "6d7aae6e-df50-4aa4-c30c-94c26061bccc"
      },
      "source": [
        "ATM= _approx_implied_vol(1, 2900, 2900, 0.39285, 0.025, 0, 98.6)\n",
        "print(ATM)"
      ],
      "execution_count": 29,
      "outputs": [
        {
          "output_type": "stream",
          "text": [
            "0.13731588717811868\n"
          ],
          "name": "stdout"
        }
      ]
    },
    {
      "cell_type": "code",
      "metadata": {
        "id": "JZ3LZXnMmXBM",
        "colab_type": "code",
        "colab": {
          "base_uri": "https://localhost:8080/",
          "height": 35
        },
        "outputId": "bbbd690f-5c49-4502-96b2-397b42326191"
      },
      "source": [
        "# Call price=98.6 Future price=2900\n",
        "ATMvol=init_vol(0.39285,98.6,2900)\n",
        "print(ATMvol)"
      ],
      "execution_count": 30,
      "outputs": [
        {
          "output_type": "stream",
          "text": [
            "0.1360150517495224\n"
          ],
          "name": "stdout"
        }
      ]
    },
    {
      "cell_type": "code",
      "metadata": {
        "id": "cRTRy4Ztm7gS",
        "colab_type": "code",
        "colab": {}
      },
      "source": [
        "def getdata():\n",
        "  with open('Data.csv') as file:\n",
        "      reader=csv.reader(file)\n",
        "      rows=[row for row in reader]\n",
        "      col0=[row[0] for row in rows[1:42]]\n",
        "      col0=[float(c) for c in col0] # Strike\n",
        "      col1=[row[1] for row in rows[1:42]]\n",
        "      col1=[float(c) for c in col1] # Call price\n",
        "      col2=[row[2] for row in rows[1:42]]\n",
        "      col2=[float(c) for c in col2] # Put price\n",
        "      \n",
        "  return col0,col1,col2"
      ],
      "execution_count": 31,
      "outputs": []
    },
    {
      "cell_type": "code",
      "metadata": {
        "id": "AJ1z2CJioX0f",
        "colab_type": "code",
        "colab": {}
      },
      "source": [
        "#define an error function\n",
        "def error_function(v,option_type, fs, x, t, r, b,theo_price):\n",
        "  #gbm.vol_ratio = vol\n",
        "  gbs_price=gbs(option_type, fs, x, t, r, b, v)\n",
        "  return np.abs(theo_price - gbs_price[0])   #x is the x[i]"
      ],
      "execution_count": 32,
      "outputs": []
    },
    {
      "cell_type": "code",
      "metadata": {
        "id": "6Bgkj6c6pn23",
        "colab_type": "code",
        "colab": {}
      },
      "source": [
        "def implied_volatility(option_type, fs, x, t, r, b,theo_price):\n",
        "  initial =ATMvol#initial guess\n",
        "  return so.fmin(error_function, initial, args = (option_type, fs, x, t, r, b,theo_price), disp = 0)[0]"
      ],
      "execution_count": 33,
      "outputs": []
    },
    {
      "cell_type": "markdown",
      "metadata": {
        "id": "wqgydCU2Cwtn",
        "colab_type": "text"
      },
      "source": [
        "# A) Implied Volatility curve"
      ]
    },
    {
      "cell_type": "code",
      "metadata": {
        "id": "2exB3GQipqkk",
        "colab_type": "code",
        "colab": {
          "base_uri": "https://localhost:8080/",
          "height": 295
        },
        "outputId": "0c8cec88-dbc9-4c56-9930-93e74b2bad28"
      },
      "source": [
        "strike=getdata()[0]\n",
        "callprice=getdata()[1]\n",
        "putprice=getdata()[2]\n",
        "iv=[]\n",
        "ivp=[]\n",
        "for i in range(0,41):\n",
        "  iv.append(implied_volatility(1,2900,strike[i],0.39285, 0.025, 0,callprice[i]))\n",
        "  ivp.append(implied_volatility(0,2900,strike[i],0.39285, 0.025, 0, putprice[i]))\n",
        "\n",
        "plt.plot(strike,iv,'orange')\n",
        "plt.xlabel('Strike')\n",
        "plt.ylabel('IV')\n",
        "plt.title('Implied volatility curve for call option')\n",
        "#plt.legend()\n",
        "plt.show()"
      ],
      "execution_count": 34,
      "outputs": [
        {
          "output_type": "display_data",
          "data": {
            "image/png": "[encoded data removed]",
            "text/plain": [
              "<Figure size 432x288 with 1 Axes>"
            ]
          },
          "metadata": {
            "tags": [],
            "needs_background": "light"
          }
        }
      ]
    },
    {
      "cell_type": "code",
      "metadata": {
        "id": "XKiVqFvptKxm",
        "colab_type": "code",
        "colab": {
          "base_uri": "https://localhost:8080/",
          "height": 295
        },
        "outputId": "926a37ae-240f-4d10-c4e2-b273d9e3b65b"
      },
      "source": [
        "plt.plot(strike,ivp,'blue')\n",
        "plt.xlabel('Strike')\n",
        "plt.ylabel('IV')\n",
        "plt.title('Implied volatility curve for put option')\n",
        "#plt.legend()\n",
        "plt.show()"
      ],
      "execution_count": 35,
      "outputs": [
        {
          "output_type": "display_data",
          "data": {
            "image/png": "[encoded data removed]",
            "text/plain": [
              "<Figure size 432x288 with 1 Axes>"
            ]
          },
          "metadata": {
            "tags": [],
            "needs_background": "light"
          }
        }
      ]
    },
    {
      "cell_type": "markdown",
      "metadata": {
        "id": "1NVYj2J8CIlY",
        "colab_type": "text"
      },
      "source": [
        "# D) Arbitrage Opportunities"
      ]
    },
    {
      "cell_type": "code",
      "metadata": {
        "id": "pyKWq-yVpWCE",
        "colab_type": "code",
        "colab": {
          "base_uri": "https://localhost:8080/",
          "height": 72
        },
        "outputId": "ee8189c6-2db4-4f3b-9d99-70f538cba545"
      },
      "source": [
        "\n",
        "ir= 0.025\n",
        "T=0.39285\n",
        "F=2900 \n",
        "\n",
        "arbitrage=[]\n",
        "ar2=[]\n",
        "for i in range(0,41):\n",
        "  #arbitrage.append(strike[i]*np.exp(-ir*T)-F*np.exp(-ir*T)-putprice[i]+callprice[i])\n",
        "  arbitrage.append((strike[i]-F)*np.exp(-ir*T)-putprice[i]+callprice[i])\n",
        "  ar2.append((100*F-100*strike[i])*np.exp(-ir*T)+100*putprice[i]-100*callprice[i])\n",
        "print(arbitrage)\n",
        "print(putprice) "
      ],
      "execution_count": 36,
      "outputs": [
        {
          "output_type": "stream",
          "text": [
            "[-0.0007283898851255799, -0.006191970390830193, -0.0016555508966007437, -0.0071191314023053565, -0.002582711908132751, 0.0019537075862103848, 0.006490127080496677, 0.0010265465746783775, 0.005562966068907826, 9.938556320321368e-05, 0.004635805057461084, -0.0008277754482719502, 0.0037086440459574987, -0.0017549364597755357, -0.007218516965536992, -0.0026820974712791212, -0.008145677977012156, -0.0036092584827827068, -0.9990728389885106, -0.004536419494257871, 0.0, 0.004536419494257871, -0.0009271610114893747, 0.003609258482768496, -0.0018543220229858548, 0.0026820974712862267, -0.002781483034468124, 0.0017549364597613248, 0.006291355954033406, 0.0008277754482755029, -0.004635805057457532, -9.938556321742453e-05, -0.0055629660689380245, -0.0010265465747085756, 0.003509872919524426, -0.0019537075861855158, 0.002582711908068802, -0.002880868597676667, 0.0016555508965665489, -0.003808029609203789, -0.9992716101148744]\n",
            "[10.73, 12.86, 13.91, 17.69, 18.22, 22.4, 23.95, 24.92, 26.98, 30.16, 34.25, 41.7, 44.74, 46.83, 49.82, 57.87, 66.66, 77.79, 78.58, 86.8, 98.6, 103.25, 117.76, 123.94, 137.18, 149.92, 164.0, 180.83, 193.84, 207.43, 221.74, 239.24, 253.22, 269.74, 286.23, 304.41, 322.3, 340.69, 359.88, 378.43, 398.34]\n"
          ],
          "name": "stdout"
        }
      ]
    },
    {
      "cell_type": "code",
      "metadata": {
        "id": "6Iz1UbHCKjOv",
        "colab_type": "code",
        "colab": {
          "base_uri": "https://localhost:8080/",
          "height": 295
        },
        "outputId": "27ad2259-0293-486d-a973-b324a4fcfb50"
      },
      "source": [
        "plt.plot(strike,arbitrage,'blue')\n",
        "plt.xlabel('Strike')\n",
        "plt.ylabel('profit')\n",
        "plt.title('profit for conversion')\n",
        "#plt.legend()\n",
        "plt.show()"
      ],
      "execution_count": 37,
      "outputs": [
        {
          "output_type": "display_data",
          "data": {
            "image/png": "[encoded data removed]",
            "text/plain": [
              "<Figure size 432x288 with 1 Axes>"
            ]
          },
          "metadata": {
            "tags": [],
            "needs_background": "light"
          }
        }
      ]
    },
    {
      "cell_type": "code",
      "metadata": {
        "id": "0OV--qrQLuJl",
        "colab_type": "code",
        "colab": {
          "base_uri": "https://localhost:8080/",
          "height": 295
        },
        "outputId": "b42e4774-e844-4e69-b8f7-025180e06bd6"
      },
      "source": [
        "plt.plot(strike,ar2,'blue')\n",
        "plt.xlabel('Strike')\n",
        "plt.ylabel('profit')\n",
        "plt.title('profit for reverse conversion')\n",
        "#plt.legend()\n",
        "plt.show()"
      ],
      "execution_count": 38,
      "outputs": [
        {
          "output_type": "display_data",
          "data": {
            "image/png": "[encoded data removed]",
            "text/plain": [
              "<Figure size 432x288 with 1 Axes>"
            ]
          },
          "metadata": {
            "tags": [],
            "needs_background": "light"
          }
        }
      ]
    },
    {
      "cell_type": "code",
      "metadata": {
        "id": "Rb6VErbabmWQ",
        "colab_type": "code",
        "colab": {
          "base_uri": "https://localhost:8080/",
          "height": 333
        },
        "outputId": "a3754be1-e054-4515-ccae-fe6417c2dbac"
      },
      "source": [
        "singlecall=[]\n",
        "singleput=[]\n",
        "for i in range(0,41):\n",
        "  singlecall.append((F-strike[i])*np.exp(-ir*T)-callprice[i])\n",
        "  singleput.append((strike[i]-F)*np.exp(-ir*T)-putprice[i])\n",
        "print(singleput) \n",
        "plt.plot(strike,singlecall,'blue')\n",
        "plt.xlabel('Strike')\n",
        "plt.ylabel('profit')\n",
        "plt.title('profit for long call & short underlying')\n",
        "#plt.legend()\n",
        "plt.show()"
      ],
      "execution_count": 39,
      "outputs": [
        {
          "output_type": "stream",
          "text": [
            "[-406.8207283898851, -389.1461919703908, -370.3916555508966, -354.3671191314023, -335.0925827119081, -319.4680462924138, -301.21350987291953, -282.3789734534253, -264.6344370339311, -248.0099006144368, -232.29536419494255, -219.94082777544827, -203.17629135595405, -185.46175493645978, -168.64721851696552, -156.89268209747127, -145.87814567797702, -137.20360925848277, -118.18907283898851, -106.60453641949425, -98.6, -83.44546358050574, -78.1509271610115, -64.52639074151723, -57.96185432202299, -50.89731790252871, -45.17278148303447, -42.19824506354024, -35.40370864404596, -29.189172224551726, -23.69463580505746, -21.390099385563218, -15.565562966068939, -12.281026546574708, -8.966490127080476, -7.341953707586185, -5.427417288091931, -4.0128808685976765, -3.3983444491034334, -2.143808029609204, -2.2492716101148744]\n"
          ],
          "name": "stdout"
        },
        {
          "output_type": "display_data",
          "data": {
            "image/png": "[encoded data removed]",
            "text/plain": [
              "<Figure size 432x288 with 1 Axes>"
            ]
          },
          "metadata": {
            "tags": [],
            "needs_background": "light"
          }
        }
      ]
    },
    {
      "cell_type": "code",
      "metadata": {
        "id": "Rh-Phexud8k0",
        "colab_type": "code",
        "colab": {
          "base_uri": "https://localhost:8080/",
          "height": 295
        },
        "outputId": "0245955c-2635-47fe-e4d8-c24839e3936a"
      },
      "source": [
        "plt.plot(strike,singleput,'blue')\n",
        "plt.xlabel('Strike')\n",
        "plt.ylabel('profit')\n",
        "plt.title('profit for long put & long underlying')\n",
        "#plt.legend()\n",
        "plt.show()"
      ],
      "execution_count": 40,
      "outputs": [
        {
          "output_type": "display_data",
          "data": {
            "image/png": "[encoded data removed]",
            "text/plain": [
              "<Figure size 432x288 with 1 Axes>"
            ]
          },
          "metadata": {
            "tags": [],
            "needs_background": "light"
          }
        }
      ]
    },
    {
      "cell_type": "markdown",
      "metadata": {
        "id": "pONDJJuNC8TM",
        "colab_type": "text"
      },
      "source": [
        "# E) gamma vega delta theta"
      ]
    },
    {
      "cell_type": "code",
      "metadata": {
        "id": "FqZ_MIhRXpU3",
        "colab_type": "code",
        "colab": {}
      },
      "source": [
        "deltaC=[]\n",
        "gammaC=[]\n",
        "thetaC=[]\n",
        "vegaC=[]\n",
        "deltaP=[]\n",
        "gammaP=[]\n",
        "vegaP=[]\n",
        "thetaP=[]\n",
        "\n",
        "for i in range(0,41):\n",
        " deltaC.append(gbs(1,2900,strike[i],0.39285, 0.025, 0,iv[i])[1])\n",
        " gammaC.append(gbs(1,2900,strike[i],0.39285, 0.025, 0,iv[i])[2])\n",
        " vegaC.append(gbs(1,2900,strike[i],0.39285, 0.025, 0,iv[i])[4])\n",
        " deltaP.append(gbs(0,2900,strike[i],0.39285, 0.025, 0,ivp[i])[1])\n",
        " gammaP.append(gbs(0,2900,strike[i],0.39285, 0.025, 0,ivp[i])[2])\n",
        " vegaP.append(gbs(0,2900,strike[i],0.39285, 0.025, 0,ivp[i])[4])\n",
        " thetaC.append(gbs(1,2900,strike[i],0.39285, 0.025, 0,ivp[i])[3])\n",
        " thetaP.append(gbs(0,2900,strike[i],0.39285, 0.025, 0,ivp[i])[3])\n"
      ],
      "execution_count": 41,
      "outputs": []
    },
    {
      "cell_type": "code",
      "metadata": {
        "id": "WtkA2V5QA7pH",
        "colab_type": "code",
        "colab": {
          "base_uri": "https://localhost:8080/",
          "height": 176
        },
        "outputId": "87b0ce1b-6c94-47e1-c9d5-72cd9b6e0bfe"
      },
      "source": [
        "print(deltaC)\n",
        "print(deltaP)\n",
        "print(gammaC)\n",
        "print(gammaP)\n",
        "print(vegaC)\n",
        "print(vegaP)\n",
        "print(iv)\n",
        "print(ivp)"
      ],
      "execution_count": 42,
      "outputs": [
        {
          "output_type": "stream",
          "text": [
            "[0.9162033601334206, 0.9044224093011759, 0.896825321015227, 0.8787399010620237, 0.8723203486144013, 0.852989663157964, 0.8421636266765242, 0.8325591280733706, 0.818839718028462, 0.8012144157923362, 0.7806615433803088, 0.7522583599486545, 0.73355937822166, 0.7154935525818918, 0.694174203179773, 0.6636901291913049, 0.6330288635763746, 0.6013621895920274, 0.5761683204202818, 0.5440428076648399, 0.5121136121990916, 0.4775600030559497, 0.44723096511863536, 0.4087028172700148, 0.377239472852038, 0.3450572974501511, 0.3155420722744725, 0.2934527089344318, 0.2614625546578762, 0.2297179081426555, 0.1989965555338222, 0.18104285348686852, 0.14626781751121373, 0.12245849599805983, 0.0971525657924639, 0.08221263082839458, 0.06485320985813564, 0.05076772037886855, 0.04360261719658401, 0.030121266938110503, 0.019446729785486793]\n",
            "[-0.07402618397790871, -0.08583006399873368, -0.09340748626990199, -0.11151221988115706, -0.11792030252782307, -0.1372223469477437, -0.14804138671047354, -0.15766485925296997, -0.1713703749611553, -0.18901011452460037, -0.2095530657907008, -0.2379704568027806, -0.25666017230686566, -0.2747294666085209, -0.29605982313043955, -0.32654039979823324, -0.35720655559552533, -0.38886694139722444, -0.41454965046693354, -0.44618463717381274, -0.47811320877562113, -0.512669283473293, -0.5429951061598313, -0.5815316248514083, -0.6129878207775964, -0.6451763012887961, -0.6746790019633273, -0.6967767963797629, -0.7287844677055314, -0.7605089128320572, -0.7912059368224461, -0.8091839674878443, -0.8439263624742368, -0.8677548462660138, -0.8930943634742754, -0.9080009723242968, -0.9253919680075336, -0.9394369512907994, -0.9466393797636442, -0.9600693330975558, -0.9600257963406553]\n",
            "[0.00045082575755029324, 0.0005019935982161012, 0.0005466400464101328, 0.0006067963604954945, 0.0006552612226700719, 0.0007146104703087979, 0.0007722920802826217, 0.0008359240332618451, 0.0009042851690594756, 0.0009740108316787865, 0.0010421716004638004, 0.0010882728875198488, 0.0011659443055535015, 0.0012605394245266987, 0.001356673111083395, 0.0013961290949515606, 0.0014241405095906075, 0.0014191870969076086, 0.0015783341452767117, 0.0016008388414527975, 0.0015807782007190134, 0.0016814098727067639, 0.0016130983201823827, 0.001687357384731234, 0.0016383706139317905, 0.001597836959782762, 0.0015365867021452013, 0.0014420467797092323, 0.0013947266926213587, 0.001334488545572794, 0.001259632322473159, 0.0011673007617878015, 0.0010733101051901422, 0.000969222029977027, 0.0008508821505409179, 0.0007528711155499309, 0.0006424485650299996, 0.0005398708953652515, 0.0004727354676203566, 0.0003639736048580261, 0.00026358174261463833]\n",
            "[0.00045083183177205434, 0.0005020400771391943, 0.0005466496345703398, 0.0006068213360078815, 0.000655272731488424, 0.0007146072102081906, 0.0007722942913086422, 0.0008359251694419333, 0.0009042995342710921, 0.0009740142145825439, 0.0010421989374875258, 0.001088266257605249, 0.0011659752104329374, 0.0012605597989666752, 0.001356623474842889, 0.0013960944370331662, 0.0014240284633918582, 0.0014191415403071073, 0.0015622743721130138, 0.001600775040793439, 0.0015807782007190134, 0.0016814931843615333, 0.0016130836756378826, 0.0016874614676108918, 0.0016383753595189123, 0.0015978885663468316, 0.0015365531250512779, 0.0014420590617598575, 0.001394794187666161, 0.001334488545572794, 0.0012596041478634562, 0.0011673007617878015, 0.001073333573875319, 0.0009692441778461561, 0.0008508264212821543, 0.0007529169535803931, 0.0006423667026105036, 0.000539990713619865, 0.00047264665139206584, 0.0003642363823059803, 0.0003476864749500229]\n",
            "[254.1465938616845, 284.14140787375067, 302.6160875561135, 344.123220738493, 358.08059458547376, 397.867149723424, 418.77238524631326, 436.54293314418675, 460.7222779144201, 489.8123696993522, 521.0935385576973, 559.9405354943802, 582.8944662997019, 603.1870982972459, 624.8379920944558, 651.6374237020406, 673.8362687008065, 691.9223716477453, 702.8842773122138, 712.5375392512781, 717.3873979491879, 717.3434078180214, 712.7713061901705, 700.805194074106, 685.8453351259406, 665.605829990642, 642.5248843576628, 622.327970435811, 588.4583136789764, 549.1615380902348, 505.3529216698978, 476.9259616899288, 415.3707026688967, 367.74626948307053, 311.5031061955289, 275.17579473928527, 229.5580695840195, 189.37518896743464, 167.64594821379907, 123.88264198518529, 85.80920450012147]\n",
            "[254.15372770504777, 284.2048946570267, 302.6303915076934, 344.17899404388857, 358.1102482416277, 397.83789455698485, 418.73121961584735, 436.5377946078388, 460.6936326403899, 489.80872790146657, 521.0757636122025, 559.9430939897951, 582.8859316447413, 603.183018058651, 624.844898588387, 651.6403931104763, 673.8418405039297, 691.9235148951897, 703.0681873267985, 712.5376800629227, 717.3873979491879, 717.3432086057088, 712.7714717642905, 700.802139282332, 685.8450748510439, 665.601031703094, 642.5298089409969, 622.3253603829262, 588.4351453150812, 549.1615380902348, 505.3899855816844, 476.9259616899288, 415.4327754197351, 367.774611042065, 311.45586736350475, 275.2090692640485, 229.50767632608927, 189.44091580096838, 167.59889501129425, 124.00604793633835, 124.15433286965225]\n",
            "[0.17062898963219053, 0.17132218157683682, 0.16755902099590064, 0.17165175906429142, 0.16540306952255157, 0.16851786733849522, 0.16412460773242543, 0.1580656120342205, 0.1542094724140024, 0.1522100079844448, 0.15133998983116412, 0.15573324943723393, 0.15131757524133727, 0.14483477776140546, 0.13940214532336304, 0.14127251831891768, 0.1432117954239402, 0.14756894263528883, 0.1347913811789731, 0.13472164689951166, 0.13735992713913556, 0.12913107462018902, 0.13374163122208058, 0.12570932144911606, 0.1267042801864318, 0.126084558286218, 0.12656398145751532, 0.1306222674711722, 0.1277038048587122, 0.12455538515802822, 0.12143062530216149, 0.12366461275490787, 0.11713532575533515, 0.114842396233044, 0.11080777006420442, 0.11062845334558932, 0.10815122608472155, 0.10617210082000683, 0.10733765949100493, 0.10301911518435812, 0.09853619721898078]\n",
            "[0.17063148014217128, 0.1713445961666637, 0.16756400201586213, 0.17167251331413108, 0.16541386173246825, 0.16850624495858496, 0.16410800433255368, 0.15806353660923655, 0.15419743494909538, 0.15220834764445762, 0.15133085796123463, 0.1557349097772211, 0.15131134896638535, 0.1448314570814311, 0.13940878668331175, 0.1412766691688856, 0.143224247973844, 0.14757392365525035, 0.13621263220799645, 0.13472704300447, 0.13735992713913556, 0.12912464080273875, 0.13374287647707095, 0.1257010197491802, 0.126703865101435, 0.1260795772662565, 0.12656771722248647, 0.130620607131185, 0.12769259756379875, 0.12455538515802822, 0.12144224768207172, 0.12366461275490787, 0.11715026881521975, 0.1148486225079959, 0.11079822310927814, 0.11063509470553803, 0.10814126404479851, 0.10618538353990425, 0.10732769745108187, 0.10304734096414013, 0.10808149180526014]\n"
          ],
          "name": "stdout"
        }
      ]
    },
    {
      "cell_type": "markdown",
      "metadata": {
        "id": "yzqHLK3x8NFq",
        "colab_type": "text"
      },
      "source": [
        "# H)"
      ]
    },
    {
      "cell_type": "code",
      "metadata": {
        "id": "kpDTptieUf7f",
        "colab_type": "code",
        "colab": {
          "base_uri": "https://localhost:8080/",
          "height": 35
        },
        "outputId": "bb42550b-e7ca-4818-f876-a0848d0ce1b6"
      },
      "source": [
        "cost=-gbs(1, 2900,2900,0.0595,0.0025, 0.0025, 0.13736)[0]-gbs(1, 2900,2900,0.0595,0.0025, 0.0025, 0.13736)[0]\n",
        "print(cost)\n",
        "FV=cost*100*np.exp(0.0595*0.0025)\n",
        "#print(FV)"
      ],
      "execution_count": 50,
      "outputs": [
        {
          "output_type": "stream",
          "text": [
            "-77.9504015376906\n"
          ],
          "name": "stdout"
        }
      ]
    },
    {
      "cell_type": "code",
      "metadata": {
        "id": "RJut-PRQEdFd",
        "colab_type": "code",
        "colab": {}
      },
      "source": [
        "def getdata1():\n",
        "  with open('AAPL.csv') as file:\n",
        "      reader=csv.reader(file)\n",
        "      rows=[row for row in reader]\n",
        "      col0=[row[0] for row in rows[1:59]]\n",
        "      col0=[float(c) for c in col0] # Strike\n",
        "      col1=[row[1] for row in rows[1:59]]\n",
        "      col1=[float(c) for c in col1] # Call price\n",
        "      \n",
        "      \n",
        "  return col0,col1"
      ],
      "execution_count": null,
      "outputs": []
    }
  ]
}