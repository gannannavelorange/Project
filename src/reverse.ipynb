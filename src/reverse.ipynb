{
  "nbformat": 4,
  "nbformat_minor": 0,
  "metadata": {
    "colab": {
      "name": "reverse.ipynb",
      "provenance": [],
      "authorship_tag": "ABX9TyM8a8Gejmp6Wxxs5a0McZIJ",
      "include_colab_link": true
    },
    "kernelspec": {
      "name": "python3",
      "display_name": "Python 3"
    }
  },
  "cells": [
    {
      "cell_type": "markdown",
      "metadata": {
        "id": "view-in-github",
        "colab_type": "text"
      },
      "source": [
        "<a href=\"https://colab.research.google.com/github/gannannavelorange/Project/blob/master/src/reverse.ipynb\" target=\"_parent\"><img src=\"https://colab.research.google.com/assets/colab-badge.svg\" alt=\"Open In Colab\"/></a>"
      ]
    },
    {
      "cell_type": "code",
      "metadata": {
        "id": "vaHUXRwq_N7m",
        "colab_type": "code",
        "colab": {}
      },
      "source": [
        "class Solution(object):\n",
        "    def reverse(self, x):\n",
        "        \"\"\"\n",
        "        :type x: int\n",
        "        :rtype: int\n",
        "        \"\"\"\n",
        "        if -2**31<=x<=2**31-1:\n",
        "            xx=str(abs(x))\n",
        "            rev=int(xx[::-1])\n",
        "            if rev>2**31:\n",
        "                return 0\n",
        "            elif x>=0:\n",
        "                return rev\n",
        "            else:\n",
        "                return -1*rev\n",
        "        else:\n",
        "            return 0\n",
        "            \n",
        "                \n",
        "          "
      ],
      "execution_count": 63,
      "outputs": []
    },
    {
      "cell_type": "code",
      "metadata": {
        "id": "LGh0HzZh8kNe",
        "colab_type": "code",
        "colab": {
          "base_uri": "https://localhost:8080/",
          "height": 35
        },
        "outputId": "f67d8905-839c-4bdc-90b4-c16d18cef810"
      },
      "source": [
        "a=Solution()\n",
        "print(a.reverse(-120))"
      ],
      "execution_count": 32,
      "outputs": [
        {
          "output_type": "stream",
          "text": [
            "-21\n"
          ],
          "name": "stdout"
        }
      ]
    },
    {
      "cell_type": "code",
      "metadata": {
        "id": "zLYmSR2N8hhM",
        "colab_type": "code",
        "colab": {}
      },
      "source": [
        "class Solution1:\n",
        "    def reverse(self, x):\n",
        "        \"\"\"\n",
        "        :type x: int\n",
        "        :rtype: int\n",
        "        \"\"\"\n",
        "       \n",
        "        s = str(abs(x))\n",
        "            \n",
        "        reversed = int(s[::-1])\n",
        "        \n",
        "        if reversed > 2147483647:\n",
        "            return 0\n",
        "\n",
        "        return reversed if x > 0 else (reversed * -1)"
      ],
      "execution_count": 29,
      "outputs": []
    },
    {
      "cell_type": "code",
      "metadata": {
        "id": "k6N4Y7BsAtIn",
        "colab_type": "code",
        "colab": {
          "base_uri": "https://localhost:8080/",
          "height": 35
        },
        "outputId": "d742280c-57e4-4bf8-ff93-40eb1e5ee6b4"
      },
      "source": [
        "a=Solution()\n",
        "print(a.reverse(-120))"
      ],
      "execution_count": 64,
      "outputs": [
        {
          "output_type": "stream",
          "text": [
            "-21\n"
          ],
          "name": "stdout"
        }
      ]
    },
    {
      "cell_type": "code",
      "metadata": {
        "id": "VYUBZSI089Le",
        "colab_type": "code",
        "colab": {
          "base_uri": "https://localhost:8080/",
          "height": 52
        },
        "outputId": "8dfbbfd0-ec8e-41f9-f85c-13e7464877b8"
      },
      "source": [
        "t=-123487678\n",
        "t1=str(abs(t))\n",
        "t2=t1[-1::-2]\n",
        "print(t2)\n",
        "tt=[1,2,3,4]\n",
        "tt1=tt[::-1]\n",
        "print(tt1)"
      ],
      "execution_count": 18,
      "outputs": [
        {
          "output_type": "stream",
          "text": [
            "86831\n",
            "[4, 3, 2, 1]\n"
          ],
          "name": "stdout"
        }
      ]
    }
  ]
}