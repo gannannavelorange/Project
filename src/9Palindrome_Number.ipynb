{
  "nbformat": 4,
  "nbformat_minor": 0,
  "metadata": {
    "colab": {
      "name": "9Palindrome_Number.ipynb",
      "provenance": [],
      "authorship_tag": "ABX9TyNbkWuGX23KJY3jDQqPRZZA",
      "include_colab_link": true
    },
    "kernelspec": {
      "name": "python3",
      "display_name": "Python 3"
    }
  },
  "cells": [
    {
      "cell_type": "markdown",
      "metadata": {
        "id": "view-in-github",
        "colab_type": "text"
      },
      "source": [
        "<a href=\"https://colab.research.google.com/github/gannannavelorange/Project/blob/master/src/9Palindrome_Number.ipynb\" target=\"_parent\"><img src=\"https://colab.research.google.com/assets/colab-badge.svg\" alt=\"Open In Colab\"/></a>"
      ]
    },
    {
      "cell_type": "code",
      "metadata": {
        "id": "xfwIQjIZWgL9",
        "colab_type": "code",
        "colab": {
          "base_uri": "https://localhost:8080/",
          "height": 35
        },
        "outputId": "52232205-3a44-4147-9a18-7d2aa1cf3f27"
      },
      "source": [
        "a=-123\n",
        "b=str(a)[::-1]\n",
        "print(b)"
      ],
      "execution_count": 64,
      "outputs": [
        {
          "output_type": "stream",
          "text": [
            "321-\n"
          ],
          "name": "stdout"
        }
      ]
    },
    {
      "cell_type": "code",
      "metadata": {
        "id": "DCPSWWiFWyK4",
        "colab_type": "code",
        "colab": {
          "base_uri": "https://localhost:8080/",
          "height": 35
        },
        "outputId": "c4a0c70b-576d-4e48-f337-a32f93aeb559"
      },
      "source": [
        "a=103//0.1\n",
        "print(a)"
      ],
      "execution_count": 16,
      "outputs": [
        {
          "output_type": "stream",
          "text": [
            "1029.0\n"
          ],
          "name": "stdout"
        }
      ]
    },
    {
      "cell_type": "code",
      "metadata": {
        "id": "A7-U5KdSbWlA",
        "colab_type": "code",
        "colab": {}
      },
      "source": [
        " def isPalindrome(x):\n",
        "        \"\"\"\n",
        "        :type x: int\n",
        "        :rtype: bool\n",
        "        \"\"\"\n",
        "        a=0\n",
        "        for i in range(0,10):\n",
        "            if x//10**i>0:\n",
        "                a=a+1\n",
        "            else:\n",
        "                break\n",
        "        return a "
      ],
      "execution_count": 19,
      "outputs": []
    },
    {
      "cell_type": "code",
      "metadata": {
        "id": "CX-wmibhp4du",
        "colab_type": "code",
        "colab": {}
      },
      "source": [
        " def isPalindrome(x):\n",
        "        \"\"\"\n",
        "        :type x: int\n",
        "        :rtype: bool\n",
        "        \"\"\"\n",
        "        if x<0:\n",
        "          return 0\n",
        "        else:\n",
        "            a=0\n",
        "            for i in range(0,10):\n",
        "                if x//10**i>0:\n",
        "                    a=a+1\n",
        "                else:\n",
        "                    break\n",
        "            for j in range(1,a-(a+1)//2+1):\n",
        "           \n",
        "                if x%(10**(a-j+1))//(10**(a-j))==x//(10**(j-1))%10:\n",
        "                     continue\n",
        "                else:\n",
        "                    return 0\n",
        "            \n",
        "            return 1\n",
        "    \n",
        "                \n",
        "        "
      ],
      "execution_count": 51,
      "outputs": []
    },
    {
      "cell_type": "code",
      "metadata": {
        "id": "_00JZMtCsxmE",
        "colab_type": "code",
        "colab": {}
      },
      "source": [
        "def isPalindrome1(x):\n",
        "        \"\"\"\n",
        "        :type x: int\n",
        "        :rtype: bool\n",
        "        \"\"\"\n",
        "        if x<0:\n",
        "          return('false')\n",
        "        else:\n",
        "          return('true')"
      ],
      "execution_count": 39,
      "outputs": []
    },
    {
      "cell_type": "code",
      "metadata": {
        "id": "UzGVXQRfbiHA",
        "colab_type": "code",
        "colab": {
          "base_uri": "https://localhost:8080/",
          "height": 35
        },
        "outputId": "c05f7e5e-ca10-4653-c942-6cbe7859c677"
      },
      "source": [
        "bb=isPalindrome(765434567)\n",
        "print(bb)"
      ],
      "execution_count": 58,
      "outputs": [
        {
          "output_type": "stream",
          "text": [
            "true\n"
          ],
          "name": "stdout"
        }
      ]
    },
    {
      "cell_type": "code",
      "metadata": {
        "id": "nkYhrQOMrwhZ",
        "colab_type": "code",
        "colab": {
          "base_uri": "https://localhost:8080/",
          "height": 69
        },
        "outputId": "21271336-017d-44bd-d58a-68f9b548f025"
      },
      "source": [
        "for i in range(0,3):\n",
        "  print(i)"
      ],
      "execution_count": 28,
      "outputs": [
        {
          "output_type": "stream",
          "text": [
            "0\n",
            "1\n",
            "2\n"
          ],
          "name": "stdout"
        }
      ]
    },
    {
      "cell_type": "code",
      "metadata": {
        "id": "HmmgVBtSxovD",
        "colab_type": "code",
        "colab": {}
      },
      "source": [
        "def cc(x):\n",
        "        \"\"\"\n",
        "        :type x: int\n",
        "        :rtype: bool\n",
        "        \"\"\"\n",
        "        if x<0:\n",
        "            return('false')\n",
        "        \n",
        "        \n",
        "        else:\n",
        "            \n",
        "            return('true')"
      ],
      "execution_count": 61,
      "outputs": []
    },
    {
      "cell_type": "code",
      "metadata": {
        "id": "3ao2HM1oyE0U",
        "colab_type": "code",
        "colab": {
          "base_uri": "https://localhost:8080/",
          "height": 35
        },
        "outputId": "85fe385b-12b2-476a-c929-8369791d7f27"
      },
      "source": [
        "print(cc(-121))"
      ],
      "execution_count": 63,
      "outputs": [
        {
          "output_type": "stream",
          "text": [
            "false\n"
          ],
          "name": "stdout"
        }
      ]
    }
  ]
}