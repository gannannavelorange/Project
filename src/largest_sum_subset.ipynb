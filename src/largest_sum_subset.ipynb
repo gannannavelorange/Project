{
  "nbformat": 4,
  "nbformat_minor": 0,
  "metadata": {
    "colab": {
      "name": "largest sum subset.ipynb",
      "provenance": [],
      "authorship_tag": "ABX9TyNCXT1hbEg9QskFVYn7Mrws",
      "include_colab_link": true
    },
    "kernelspec": {
      "name": "python3",
      "display_name": "Python 3"
    }
  },
  "cells": [
    {
      "cell_type": "markdown",
      "metadata": {
        "id": "view-in-github",
        "colab_type": "text"
      },
      "source": [
        "<a href=\"https://colab.research.google.com/github/gannannavelorange/Project/blob/master/src/largest_sum_subset.ipynb\" target=\"_parent\"><img src=\"https://colab.research.google.com/assets/colab-badge.svg\" alt=\"Open In Colab\"/></a>"
      ]
    },
    {
      "cell_type": "code",
      "metadata": {
        "id": "opddz70F-MuG"
      },
      "source": [
        "import numpy as np\n",
        "import operator"
      ],
      "execution_count": 18,
      "outputs": []
    },
    {
      "cell_type": "code",
      "metadata": {
        "id": "jh3lRAy971N7"
      },
      "source": [
        "def largest(N):\n",
        "  SUM=[]\n",
        "  C=[]\n",
        "  for i in range(0,len(N)):\n",
        "    arr=[]\n",
        "    sum=N[i]\n",
        "    C.append([sum])\n",
        "    SUM.append(sum)\n",
        "    \n",
        "    for j in range(i+1,len(N)):\n",
        "      sum=sum+N[j]\n",
        "      sub=N[i:j+1]\n",
        "      C.append(sub)\n",
        "      #print(sub)\n",
        "      SUM.append(sum)\n",
        "      \n",
        "  max_index, max_number = max(enumerate(SUM), key=operator.itemgetter(1))\n",
        " \n",
        "  return C[max_index],max_number"
      ],
      "execution_count": 72,
      "outputs": []
    },
    {
      "cell_type": "code",
      "metadata": {
        "id": "EOCzfjeO99Rg",
        "outputId": "5625e671-bfc3-46fe-d070-8d8139939e70",
        "colab": {
          "base_uri": "https://localhost:8080/",
          "height": 52
        }
      },
      "source": [
        "test=[1,-2,4,8,-4,7,-1,-5]\n",
        "#print(test[0:4])\n",
        "\n",
        "print(largest(test))\n",
        "#print(max_index, max_number)"
      ],
      "execution_count": 73,
      "outputs": [
        {
          "output_type": "stream",
          "text": [
            "([4, 8, -4, 7], 15)\n",
            "3 8\n"
          ],
          "name": "stdout"
        }
      ]
    },
    {
      "cell_type": "code",
      "metadata": {
        "id": "NNumoTj7-0TJ",
        "outputId": "f826046a-cacd-492d-bcab-418bf06a9081",
        "colab": {
          "base_uri": "https://localhost:8080/",
          "height": 156
        }
      },
      "source": [
        "for i in range(0,len(test)):\n",
        "  print(test[i])"
      ],
      "execution_count": 9,
      "outputs": [
        {
          "output_type": "stream",
          "text": [
            "1\n",
            "-2\n",
            "4\n",
            "8\n",
            "-4\n",
            "7\n",
            "-1\n",
            "-5\n"
          ],
          "name": "stdout"
        }
      ]
    },
    {
      "cell_type": "code",
      "metadata": {
        "id": "v4lbetGY_1Zz",
        "outputId": "d59b7e30-286f-4fe2-94a0-6a2775a49aa7",
        "colab": {
          "base_uri": "https://localhost:8080/",
          "height": 52
        }
      },
      "source": [
        "ar=[]\n",
        "arrr=[]\n",
        "ar.append(1)\n",
        "ar.append([1,2])\n",
        "arrr.append(ar)\n",
        "ar.append(3)\n",
        "arrr.append(ar)\n",
        "print(ar)\n",
        "print(arrr)"
      ],
      "execution_count": 39,
      "outputs": [
        {
          "output_type": "stream",
          "text": [
            "[1, [1, 2], 3]\n",
            "[[1, [1, 2], 3], [1, [1, 2], 3]]\n"
          ],
          "name": "stdout"
        }
      ]
    },
    {
      "cell_type": "code",
      "metadata": {
        "id": "OIvvgX-sHpgw",
        "outputId": "71d1030d-dde4-4a29-acc0-40c1d7f25ca7",
        "colab": {
          "base_uri": "https://localhost:8080/",
          "height": 52
        }
      },
      "source": [
        "c=[1,2]\n",
        "d=[3,4]\n",
        "e=[1,2,3,4]\n",
        "A=[]\n",
        "A.append(c)\n",
        "print(A)\n",
        "A.append(d)\n",
        "A.append(e)\n",
        "print(A)"
      ],
      "execution_count": 50,
      "outputs": [
        {
          "output_type": "stream",
          "text": [
            "[[1, 2]]\n",
            "[[1, 2], [3, 4], [1, 2, 3, 4]]\n"
          ],
          "name": "stdout"
        }
      ]
    }
  ]
}