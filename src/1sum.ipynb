{
  "nbformat": 4,
  "nbformat_minor": 0,
  "metadata": {
    "colab": {
      "name": "1sum.ipynb",
      "provenance": [],
      "authorship_tag": "ABX9TyMpfNvAAa98FWKn2I/h0Kg0",
      "include_colab_link": true
    },
    "kernelspec": {
      "name": "python3",
      "display_name": "Python 3"
    }
  },
  "cells": [
    {
      "cell_type": "markdown",
      "metadata": {
        "id": "view-in-github",
        "colab_type": "text"
      },
      "source": [
        "<a href=\"https://colab.research.google.com/github/gannannavelorange/Project/blob/master/src/1sum.ipynb\" target=\"_parent\"><img src=\"https://colab.research.google.com/assets/colab-badge.svg\" alt=\"Open In Colab\"/></a>"
      ]
    },
    {
      "cell_type": "code",
      "metadata": {
        "id": "KrhjFHihZr__",
        "colab_type": "code",
        "colab": {}
      },
      "source": [
        "class Solution1(object): \n",
        "  def twoSum(self, nums, target):\n",
        "    \"\"\"\n",
        "    :type nums: List[int]\n",
        "    :type target: int\n",
        "    :rtype: List[int]\n",
        "    \"\"\"\n",
        "    traversed = {}\n",
        "    for i, v in enumerate(nums):\n",
        "         diff = target - v\n",
        "         if diff in traversed:\n",
        "            return [traversed[diff], i]\n",
        "         if v not in traversed:\n",
        "            traversed[v] = i\n",
        "    return []"
      ],
      "execution_count": 21,
      "outputs": []
    },
    {
      "cell_type": "code",
      "metadata": {
        "id": "piAO7CRRo-9r",
        "colab_type": "code",
        "colab": {}
      },
      "source": [
        "class Solution:\n",
        "    def twoSum(self, nums, target):\n",
        "        \"\"\"\n",
        "        :type nums: List[int]\n",
        "        :type target: int\n",
        "        :rtype: List[int]\n",
        "        \"\"\"\n",
        "        h = {}\n",
        "        for i, num in enumerate(nums):\n",
        "            n = target - num\n",
        "            if n not in h:\n",
        "                h[num] = i\n",
        "            else:\n",
        "                return [h[n], i]"
      ],
      "execution_count": 19,
      "outputs": []
    },
    {
      "cell_type": "code",
      "metadata": {
        "id": "niptT-v6nRRZ",
        "colab_type": "code",
        "colab": {
          "base_uri": "https://localhost:8080/",
          "height": 35
        },
        "outputId": "53e88337-cef1-4545-aa42-142c06b8e9bf"
      },
      "source": [
        "a=Solution()\n",
        "print(a.twoSum([1,2,0,8],9))\n"
      ],
      "execution_count": 26,
      "outputs": [
        {
          "output_type": "stream",
          "text": [
            "[0, 3]\n"
          ],
          "name": "stdout"
        }
      ]
    },
    {
      "cell_type": "code",
      "metadata": {
        "id": "yQULcwP1kWLb",
        "colab_type": "code",
        "colab": {
          "base_uri": "https://localhost:8080/",
          "height": 104
        },
        "outputId": "43cbd4e9-9130-48ff-ea5a-90645c5d56c3"
      },
      "source": [
        "t={}\n",
        "t[8]=8\n",
        "t[3]=0\n",
        "t[2]=1\n",
        "print([t[2],2])\n",
        "print(t)\n",
        "for i in t:\n",
        "  print(i)"
      ],
      "execution_count": 17,
      "outputs": [
        {
          "output_type": "stream",
          "text": [
            "[1, 2]\n",
            "{8: 8, 3: 0, 2: 1}\n",
            "8\n",
            "3\n",
            "2\n"
          ],
          "name": "stdout"
        }
      ]
    }
  ]
}