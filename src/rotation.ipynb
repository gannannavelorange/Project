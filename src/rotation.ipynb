{
  "nbformat": 4,
  "nbformat_minor": 0,
  "metadata": {
    "colab": {
      "name": "rotation.ipynb",
      "provenance": [],
      "authorship_tag": "ABX9TyNsgaLoGcSYdkai6f1H/jal",
      "include_colab_link": true
    },
    "kernelspec": {
      "name": "python3",
      "display_name": "Python 3"
    }
  },
  "cells": [
    {
      "cell_type": "markdown",
      "metadata": {
        "id": "view-in-github",
        "colab_type": "text"
      },
      "source": [
        "<a href=\"https://colab.research.google.com/github/gannannavelorange/Project/blob/master/src/rotation.ipynb\" target=\"_parent\"><img src=\"https://colab.research.google.com/assets/colab-badge.svg\" alt=\"Open In Colab\"/></a>"
      ]
    },
    {
      "cell_type": "code",
      "metadata": {
        "id": "9L0rUHErSb0V",
        "colab_type": "code",
        "colab": {}
      },
      "source": [
        "def rotLeft(a, d):\n",
        "     A=[]\n",
        "     for i in range(d+1,a+1):\n",
        "         A.append(i)\n",
        "     for j in range(1,d+1):\n",
        "         A.append(j)\n",
        "     return A"
      ],
      "execution_count": 1,
      "outputs": []
    },
    {
      "cell_type": "code",
      "metadata": {
        "id": "yPePuH0RgAJP",
        "colab_type": "code",
        "colab": {}
      },
      "source": [
        "class Solution(object):\n",
        "    def rotate(self, nums, k):\n",
        "        \"\"\"\n",
        "        :type nums: List[int]\n",
        "        :type k: int\n",
        "        :rtype: None Do not return anything, modify nums in-place instead.\n",
        "        \"\"\"\n",
        "        for i in range(k):\n",
        "            previous=nums[-1]\n",
        "            for j in range(len(nums)):\n",
        "                nums[j],previous=previous,nums[j]\n",
        "        return nums"
      ],
      "execution_count": null,
      "outputs": []
    },
    {
      "cell_type": "code",
      "metadata": {
        "id": "01_K5zr4gDJS",
        "colab_type": "code",
        "colab": {}
      },
      "source": [
        "#right rotation\n",
        "class Solution(object):\n",
        "    def rotate(self, nums, k):\n",
        "        \"\"\"\n",
        "        :type nums: List[int]\n",
        "        :type k: int\n",
        "        :rtype: None Do not return anything, modify nums in-place instead.\n",
        "        \"\"\"\n",
        "        \n",
        "        nums[:] = nums[len(nums) - k:] + nums[:len(nums) - k]"
      ],
      "execution_count": null,
      "outputs": []
    },
    {
      "cell_type": "code",
      "metadata": {
        "id": "QwdBmUDchVyI",
        "colab_type": "code",
        "colab": {}
      },
      "source": [
        "#left rotation\n",
        "def rotLeft(a, d):\n",
        "    a[:]=a[d:]+a[0:d]\n",
        "    return a"
      ],
      "execution_count": null,
      "outputs": []
    },
    {
      "cell_type": "code",
      "metadata": {
        "id": "MVZal9M-cP8v",
        "colab_type": "code",
        "colab": {
          "base_uri": "https://localhost:8080/",
          "height": 35
        },
        "outputId": "db4ab6f9-051c-4a2c-bbdd-ddf8e4204abb"
      },
      "source": [
        "print(rotLeft(5,4))"
      ],
      "execution_count": 3,
      "outputs": [
        {
          "output_type": "stream",
          "text": [
            "[5, 1, 2, 3, 4]\n"
          ],
          "name": "stdout"
        }
      ]
    }
  ]
}