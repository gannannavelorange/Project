{
  "nbformat": 4,
  "nbformat_minor": 0,
  "metadata": {
    "colab": {
      "name": "566reshapeMatrix.ipynb",
      "provenance": [],
      "authorship_tag": "ABX9TyMdrGDGzlPTk2gWoSymSary",
      "include_colab_link": true
    },
    "kernelspec": {
      "name": "python3",
      "display_name": "Python 3"
    }
  },
  "cells": [
    {
      "cell_type": "markdown",
      "metadata": {
        "id": "view-in-github",
        "colab_type": "text"
      },
      "source": [
        "<a href=\"https://colab.research.google.com/github/gannannavelorange/Project/blob/master/src/566reshapeMatrix.ipynb\" target=\"_parent\"><img src=\"https://colab.research.google.com/assets/colab-badge.svg\" alt=\"Open In Colab\"/></a>"
      ]
    },
    {
      "cell_type": "code",
      "metadata": {
        "id": "bACy0iNY-u8V",
        "colab_type": "code",
        "colab": {}
      },
      "source": [
        "def matrixReshape(nums, r, c):\n",
        "        \"\"\"\n",
        "        :type nums: List[List[int]]\n",
        "        :type r: int\n",
        "        :type c: int\n",
        "        :rtype: List[List[int]]\n",
        "        \"\"\"\n",
        "        matrix=[]\n",
        "        Row=[]\n",
        "        for row in nums:\n",
        "            for value in row:\n",
        "                Row.append(value)\n",
        "        if r*c==len(Row):\n",
        "            for i in range(0,len(Row),c):\n",
        "                matrix.append(Row[i:i+c])\n",
        "            return matrix\n",
        "        else:\n",
        "            return nums\n",
        "        "
      ],
      "execution_count": 5,
      "outputs": []
    },
    {
      "cell_type": "code",
      "metadata": {
        "id": "nUwIamsz9f1I",
        "colab_type": "code",
        "colab": {
          "base_uri": "https://localhost:8080/",
          "height": 35
        },
        "outputId": "8a98a7f4-ce3e-460a-c9d2-57513a17da4e"
      },
      "source": [
        "a=[1,2,3,4]\n",
        "b=a[1:3]\n",
        "print(b)"
      ],
      "execution_count": 4,
      "outputs": [
        {
          "output_type": "stream",
          "text": [
            "[2, 3]\n"
          ],
          "name": "stdout"
        }
      ]
    },
    {
      "cell_type": "code",
      "metadata": {
        "id": "xz-BnB1P-Zl5",
        "colab_type": "code",
        "colab": {}
      },
      "source": [
        ""
      ],
      "execution_count": null,
      "outputs": []
    }
  ]
}