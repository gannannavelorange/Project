{
  "nbformat": 4,
  "nbformat_minor": 0,
  "metadata": {
    "colab": {
      "name": "sherlok anagrams.ipynb",
      "provenance": [],
      "authorship_tag": "ABX9TyPl+gq9e/yGKihNQMAIvVGf",
      "include_colab_link": true
    },
    "kernelspec": {
      "name": "python3",
      "display_name": "Python 3"
    }
  },
  "cells": [
    {
      "cell_type": "markdown",
      "metadata": {
        "id": "view-in-github",
        "colab_type": "text"
      },
      "source": [
        "<a href=\"https://colab.research.google.com/github/gannannavelorange/Project/blob/master/src/sherlok_anagrams.ipynb\" target=\"_parent\"><img src=\"https://colab.research.google.com/assets/colab-badge.svg\" alt=\"Open In Colab\"/></a>"
      ]
    },
    {
      "cell_type": "code",
      "metadata": {
        "id": "9y48FlQXKz3F",
        "colab_type": "code",
        "colab": {}
      },
      "source": [
        "pcounts = {}\n",
        "\n",
        "p='abaca'\n",
        "for c in p:\n",
        "    if c not in pcounts:\n",
        "        pcounts[c] = 1\n",
        "\n",
        "print(pcounts)\n"
      ],
      "execution_count": null,
      "outputs": []
    },
    {
      "cell_type": "code",
      "metadata": {
        "id": "vExSFVHNDkNZ",
        "colab_type": "code",
        "colab": {}
      },
      "source": [
        "def findAnagrams(self, s: str, p: str) -> List[int]:\n",
        "        pn=len(p)\n",
        "        out =[]\n",
        "        \n",
        "        pcounts = {}\n",
        "        for c in p:\n",
        "            if c not in pcounts:\n",
        "                pcounts[c] = 1\n",
        "            else:\n",
        "                pcounts[c]+=1\n",
        "\n",
        "        scounts={}    \n",
        "        for i in range(len(s)):\n",
        "\n",
        "            if i>pn-1 and s[i-pn] in scounts:\n",
        "                scounts[s[i-pn]]-=1\n",
        "            if s[i] in pcounts:     \n",
        "                if s[i] not in scounts:\n",
        "                    scounts[s[i]]=1\n",
        "                else:\n",
        "                    scounts[s[i]]+=1\n",
        "                if scounts==pcounts:\n",
        "                    out.append(i-pn+1)\n",
        "        return out"
      ],
      "execution_count": null,
      "outputs": []
    },
    {
      "cell_type": "code",
      "metadata": {
        "id": "xePhai8UE14L",
        "colab_type": "code",
        "colab": {}
      },
      "source": [
        ""
      ],
      "execution_count": null,
      "outputs": []
    }
  ]
}